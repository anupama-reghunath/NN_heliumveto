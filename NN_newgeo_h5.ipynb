{
 "cells": [
  {
   "cell_type": "code",
   "execution_count": 1,
   "id": "1d809814-2af1-4d9c-844a-1e843d521e6b",
   "metadata": {},
   "outputs": [],
   "source": [
    "import glob\n",
    "import uproot\n",
    "import numpy as np\n",
    "from sbtveto.model.nn_model import NN\n",
    "import torch"
   ]
  },
  {
   "cell_type": "code",
   "execution_count": 2,
   "id": "5077ca9a-d249-4758-9ce1-655cdc2d338a",
   "metadata": {},
   "outputs": [
    {
     "name": "stdout",
     "output_type": "stream",
     "text": [
      "h5_files  root_files  SBT_new_geo_XYZ.npy  SBT_XYZ.npy\tsignal\n"
     ]
    }
   ],
   "source": [
    "!ls ../NN_data"
   ]
  },
  {
   "cell_type": "code",
   "execution_count": null,
   "id": "0b1509bf-5180-407a-a698-28d41fb0351c",
   "metadata": {},
   "outputs": [],
   "source": []
  },
  {
   "cell_type": "code",
   "execution_count": 3,
   "id": "80d0a1d2-72a1-4d73-836c-efdb5d4e3271",
   "metadata": {},
   "outputs": [],
   "source": [
    "XYZ =np.load(\"../NN_data/SBT_new_geo_XYZ.npy\")"
   ]
  },
  {
   "cell_type": "code",
   "execution_count": 4,
   "id": "96f12fcb-29df-4b00-9133-da98ceb6a58a",
   "metadata": {},
   "outputs": [
    {
     "name": "stdout",
     "output_type": "stream",
     "text": [
      "datafile_EMBG_0_0.h5  datafile_EMBG_0_0.root\n"
     ]
    }
   ],
   "source": [
    "!ls ../NN_data/signal"
   ]
  },
  {
   "cell_type": "code",
   "execution_count": 5,
   "id": "d1e06130-9401-4aff-861d-415740f3d960",
   "metadata": {},
   "outputs": [],
   "source": [
    "neu_files = glob.glob(\"../NN_data/root_files/*neuDIS*.h5\")\n",
    "#mu_files = glob.glob(\"../SBT/ml_dataset/*muDIS*.root\")\n",
    "#embg_files = glob.glob(\"../SBT/ml_dataset/*EMBG*.root\")\n",
    "embg_files = glob.glob(\"../NN_data/signal/*EMBG*.h5\")"
   ]
  },
  {
   "cell_type": "code",
   "execution_count": 6,
   "id": "68f08a97-dc7a-42e1-b101-159de1ff37f2",
   "metadata": {},
   "outputs": [
    {
     "data": {
      "text/plain": [
       "['../NN_data/signal/datafile_EMBG_0_0.h5']"
      ]
     },
     "execution_count": 6,
     "metadata": {},
     "output_type": "execute_result"
    }
   ],
   "source": [
    "embg_files"
   ]
  },
  {
   "cell_type": "code",
   "execution_count": 7,
   "id": "2f964793-d499-4195-abe6-080933f940ed",
   "metadata": {},
   "outputs": [],
   "source": [
    "from sklearn.model_selection import train_test_split\n",
    "import torch\n",
    "from sklearn.preprocessing import RobustScaler, StandardScaler, MinMaxScaler\n",
    "import joblib"
   ]
  },
  {
   "cell_type": "code",
   "execution_count": 8,
   "id": "989341f4-c340-48ad-9507-f8eeb2886061",
   "metadata": {},
   "outputs": [],
   "source": [
    "from torch.utils.data import Dataset, DataLoader\n",
    "import glob\n",
    "import torch\n",
    "import h5py\n",
    "from sklearn.model_selection import train_test_split\n",
    "import torch\n",
    "from sklearn.preprocessing import RobustScaler, StandardScaler, MinMaxScaler\n",
    "import joblib\n",
    "\n",
    "class AdvancedSBTDataloader(Dataset):\n",
    "    \"\"\"SBT data loader\"\"\"\n",
    "\n",
    "    def __init__(self):\n",
    "        \"\"\"\n",
    "        Arguments:\n",
    " \n",
    "        \"\"\"\n",
    "        self.files = glob.glob(\"../NN_data/h5_files/*.h5\")[:50] +  glob.glob(\"../NN_data/signal/*EMBG*.h5\")\n",
    "\n",
    "        self.file_name_mapping = {}\n",
    "        self.file_number_mapping = {}\n",
    "        self.scaler = joblib.load('robust_scaler.pkl')\n",
    "\n",
    "        \n",
    "        j = 0 \n",
    "        for f in self.files:\n",
    "            file = h5py.File(f,'r')\n",
    "            #print(N)\n",
    "            for key in file.keys():\n",
    "                self.file_name_mapping[j] = f\n",
    "                self.file_number_mapping[j] = key\n",
    "                j+=1\n",
    "            file.close()\n",
    "        self._len = j\n",
    "                \n",
    "                            \n",
    "           \n",
    "\n",
    "    def __len__(self):\n",
    "        return self._len\n",
    "\n",
    "    def __getitem__(self, idx):\n",
    "        #print(self.file_name_mapping[idx])\n",
    "        file = h5py.File(self.file_name_mapping[idx], 'r')\n",
    "        x = np.array(file[self.file_number_mapping[idx]]['data'][:])\n",
    "\n",
    "        x = np.hstack([x[:854],x[1708:1712]])   \n",
    "        x = np.expand_dims(x, 0)\n",
    "        #print(x.shape)\n",
    "        x = self.scaler.transform(x)\n",
    "        x = x.flatten()\n",
    "        y = 0\n",
    "        if 'neuDIS' in self.file_name_mapping[idx]:\n",
    "            y = 1\n",
    "        return torch.tensor(x, dtype=torch.float), torch.tensor(y, dtype=torch.float)"
   ]
  },
  {
   "cell_type": "code",
   "execution_count": 9,
   "id": "aea2fd1e-ecd0-4e6a-9ae2-b58af5963432",
   "metadata": {},
   "outputs": [],
   "source": [
    "sbt_data = AdvancedSBTDataloader()\n",
    "train_loader = DataLoader(sbt_data, batch_size=32,\n",
    "                        shuffle=True)"
   ]
  },
  {
   "cell_type": "code",
   "execution_count": 10,
   "id": "1e0fe9a8-b942-4f50-aa92-bb0c0f0209c2",
   "metadata": {},
   "outputs": [],
   "source": [
    "#multiple targets 3 targets\n",
    "#network = NN(2003,3,[32,32,32,16,8], dropout=0)\n",
    "network = NN(858,1,[32,32,32,16,8], dropout=0)\n",
    "#network = NN(1712,1,[32,32,32,16,8], dropout=0)"
   ]
  },
  {
   "cell_type": "code",
   "execution_count": 11,
   "id": "ecbcf793-d570-402f-8438-bfc339b3a1fd",
   "metadata": {},
   "outputs": [
    {
     "name": "stdout",
     "output_type": "stream",
     "text": [
      "torch.Size([32, 858])\n"
     ]
    }
   ],
   "source": [
    "for b in train_loader:\n",
    "    print(b[0].shape)\n",
    "    \n",
    "    network(b[0])\n",
    "    break"
   ]
  },
  {
   "cell_type": "code",
   "execution_count": 12,
   "id": "087145d0-e908-4e9a-a7c4-cda65855361c",
   "metadata": {},
   "outputs": [],
   "source": [
    "#b[1]"
   ]
  },
  {
   "cell_type": "code",
   "execution_count": 13,
   "id": "2d812e69-eded-460d-a7ea-51011ede01d6",
   "metadata": {},
   "outputs": [
    {
     "data": {
      "text/plain": [
       "NN(\n",
       "  (_layers): ModuleList(\n",
       "    (0): Linear(in_features=858, out_features=32, bias=True)\n",
       "    (1): Linear(in_features=32, out_features=32, bias=True)\n",
       "    (2): Linear(in_features=32, out_features=16, bias=True)\n",
       "    (3): Linear(in_features=16, out_features=8, bias=True)\n",
       "  )\n",
       "  (_batch_norms): ModuleList(\n",
       "    (0-1): 2 x BatchNorm1d(32, eps=1e-05, momentum=0.1, affine=True, track_running_stats=True)\n",
       "    (2): BatchNorm1d(16, eps=1e-05, momentum=0.1, affine=True, track_running_stats=True)\n",
       "    (3): BatchNorm1d(8, eps=1e-05, momentum=0.1, affine=True, track_running_stats=True)\n",
       "  )\n",
       "  (_dropout): Dropout(p=0, inplace=False)\n",
       "  (_output_layer): Linear(in_features=8, out_features=1, bias=True)\n",
       ")"
      ]
     },
     "execution_count": 13,
     "metadata": {},
     "output_type": "execute_result"
    }
   ],
   "source": [
    "network"
   ]
  },
  {
   "cell_type": "code",
   "execution_count": 14,
   "id": "afb60529-c1fc-46cb-b9b2-5fba63f15dda",
   "metadata": {},
   "outputs": [],
   "source": [
    "def count_parameters(model):\n",
    "    return sum(p.numel() for p in model.parameters() if p.requires_grad)\n"
   ]
  },
  {
   "cell_type": "code",
   "execution_count": 15,
   "id": "2dc8095f-9e8e-48d4-a7cf-496ae609a684",
   "metadata": {},
   "outputs": [
    {
     "data": {
      "text/plain": [
       "29393"
      ]
     },
     "execution_count": 15,
     "metadata": {},
     "output_type": "execute_result"
    }
   ],
   "source": [
    "# number of pars in the network\n",
    "count_parameters(network)"
   ]
  },
  {
   "cell_type": "code",
   "execution_count": 16,
   "id": "37131911-dbb6-4029-b618-e1ae2a0dc687",
   "metadata": {},
   "outputs": [],
   "source": [
    "from torch import nn\n"
   ]
  },
  {
   "cell_type": "code",
   "execution_count": null,
   "id": "ea787e94-5fa4-48b4-a92a-ec7843b8582e",
   "metadata": {},
   "outputs": [],
   "source": []
  },
  {
   "cell_type": "code",
   "execution_count": 17,
   "id": "73d4da33-427c-4f36-8629-adfa25174cda",
   "metadata": {},
   "outputs": [],
   "source": [
    "device='cuda'\n",
    "\n",
    "model = network\n",
    "model.cuda()\n",
    "\n",
    "# Loss and optimizer\n",
    "BCE_criterion = torch.nn.BCEWithLogitsLoss()\n",
    "optimizer = torch.optim.Adam(model.parameters())\n",
    "\n",
    "from datetime import datetime"
   ]
  },
  {
   "cell_type": "code",
   "execution_count": 18,
   "id": "3281eeae-9a40-4392-ab49-f49b9b2ec65c",
   "metadata": {},
   "outputs": [],
   "source": [
    "CE_criterion = nn.CrossEntropyLoss()"
   ]
  },
  {
   "cell_type": "code",
   "execution_count": 19,
   "id": "3a903f15-c0c2-46ff-bf1d-37bc92611b76",
   "metadata": {},
   "outputs": [],
   "source": [
    "model = model.cuda()\n",
    "\n",
    "epoch_log = []\n",
    "loss_log = []\n",
    "val_loss_log = []\n",
    "accuracy_log = []\n",
    "val_accuracy_log = []\n",
    "\n",
    "criterion = nn.CrossEntropyLoss()\n",
    "optimizer = torch.optim.Adam(model.parameters(), lr=0.001)\n",
    "sig = nn.Sigmoid()"
   ]
  },
  {
   "cell_type": "code",
   "execution_count": 20,
   "id": "f5413e49-fb2f-48a5-b5ca-d70ac83a347b",
   "metadata": {},
   "outputs": [
    {
     "name": "stdout",
     "output_type": "stream",
     "text": [
      "Epoch: 1\n",
      "Epoch: 1, Mini-Batches Completed: 400 Train Accuracy = 84.102%\n",
      "Epoch: 1, Mini-Batches Completed: 800 Train Accuracy = 89.734%\n",
      "Epoch: 1, Mini-Batches Completed: 1200 Train Accuracy = 91.901%\n",
      "Epoch: 1, Mini-Batches Completed: 1600 Train Accuracy = 92.984%\n",
      "Epoch: 1, Mini-Batches Completed: 2000 Train Accuracy = 93.703%\n",
      "\n",
      "\n",
      "Epoch 1 summary stats:\n",
      "Train Loss: 0.0061, Train Accuracy = 93.703%\n",
      "\n",
      "\n",
      "\n",
      "\n",
      "Epoch: 2\n",
      "Epoch: 2, Mini-Batches Completed: 400 Train Accuracy = 96.766%\n",
      "Epoch: 2, Mini-Batches Completed: 800 Train Accuracy = 96.867%\n",
      "Epoch: 2, Mini-Batches Completed: 1200 Train Accuracy = 96.841%\n",
      "Epoch: 2, Mini-Batches Completed: 1600 Train Accuracy = 96.834%\n",
      "Epoch: 2, Mini-Batches Completed: 2000 Train Accuracy = 96.806%\n",
      "\n",
      "\n",
      "Epoch 2 summary stats:\n",
      "Train Loss: 0.0036, Train Accuracy = 96.806%\n",
      "\n",
      "\n",
      "\n",
      "\n",
      "Epoch: 3\n",
      "Epoch: 3, Mini-Batches Completed: 400 Train Accuracy = 96.938%\n",
      "Epoch: 3, Mini-Batches Completed: 800 Train Accuracy = 96.977%\n",
      "Epoch: 3, Mini-Batches Completed: 1200 Train Accuracy = 97.096%\n",
      "Epoch: 3, Mini-Batches Completed: 1600 Train Accuracy = 97.062%\n",
      "Epoch: 3, Mini-Batches Completed: 2000 Train Accuracy = 97.053%\n",
      "\n",
      "\n",
      "Epoch 3 summary stats:\n",
      "Train Loss: 0.0032, Train Accuracy = 97.053%\n",
      "\n",
      "\n",
      "\n",
      "\n",
      "Epoch: 4\n",
      "Epoch: 4, Mini-Batches Completed: 400 Train Accuracy = 97.188%\n",
      "Epoch: 4, Mini-Batches Completed: 800 Train Accuracy = 97.352%\n",
      "Epoch: 4, Mini-Batches Completed: 1200 Train Accuracy = 97.320%\n",
      "Epoch: 4, Mini-Batches Completed: 1600 Train Accuracy = 97.326%\n",
      "Epoch: 4, Mini-Batches Completed: 2000 Train Accuracy = 97.291%\n",
      "\n",
      "\n",
      "Epoch 4 summary stats:\n",
      "Train Loss: 0.0028, Train Accuracy = 97.291%\n",
      "\n",
      "\n",
      "\n",
      "\n",
      "Epoch: 5\n",
      "Epoch: 5, Mini-Batches Completed: 400 Train Accuracy = 97.422%\n",
      "Epoch: 5, Mini-Batches Completed: 800 Train Accuracy = 97.426%\n",
      "Epoch: 5, Mini-Batches Completed: 1200 Train Accuracy = 97.417%\n",
      "Epoch: 5, Mini-Batches Completed: 1600 Train Accuracy = 97.400%\n",
      "Epoch: 5, Mini-Batches Completed: 2000 Train Accuracy = 97.397%\n",
      "\n",
      "\n",
      "Epoch 5 summary stats:\n",
      "Train Loss: 0.0026, Train Accuracy = 97.397%\n",
      "\n",
      "\n",
      "\n",
      "\n",
      "Epoch: 6\n",
      "Epoch: 6, Mini-Batches Completed: 400 Train Accuracy = 97.812%\n",
      "Epoch: 6, Mini-Batches Completed: 800 Train Accuracy = 97.574%\n",
      "Epoch: 6, Mini-Batches Completed: 1200 Train Accuracy = 97.680%\n",
      "Epoch: 6, Mini-Batches Completed: 1600 Train Accuracy = 97.656%\n",
      "Epoch: 6, Mini-Batches Completed: 2000 Train Accuracy = 97.606%\n",
      "\n",
      "\n",
      "Epoch 6 summary stats:\n",
      "Train Loss: 0.0024, Train Accuracy = 97.606%\n",
      "\n",
      "\n",
      "\n",
      "\n",
      "Epoch: 7\n",
      "Epoch: 7, Mini-Batches Completed: 400 Train Accuracy = 97.914%\n",
      "Epoch: 7, Mini-Batches Completed: 800 Train Accuracy = 97.777%\n",
      "Epoch: 7, Mini-Batches Completed: 1200 Train Accuracy = 97.805%\n",
      "Epoch: 7, Mini-Batches Completed: 1600 Train Accuracy = 97.795%\n",
      "Epoch: 7, Mini-Batches Completed: 2000 Train Accuracy = 97.753%\n",
      "\n",
      "\n",
      "Epoch 7 summary stats:\n",
      "Train Loss: 0.0022, Train Accuracy = 97.753%\n",
      "\n",
      "\n",
      "\n",
      "\n",
      "Epoch: 8\n",
      "Epoch: 8, Mini-Batches Completed: 400 Train Accuracy = 98.016%\n",
      "Epoch: 8, Mini-Batches Completed: 800 Train Accuracy = 97.957%\n",
      "Epoch: 8, Mini-Batches Completed: 1200 Train Accuracy = 97.901%\n",
      "Epoch: 8, Mini-Batches Completed: 1600 Train Accuracy = 97.898%\n",
      "Epoch: 8, Mini-Batches Completed: 2000 Train Accuracy = 97.878%\n",
      "\n",
      "\n",
      "Epoch 8 summary stats:\n",
      "Train Loss: 0.0021, Train Accuracy = 97.878%\n",
      "\n",
      "\n",
      "\n",
      "\n",
      "Epoch: 9\n",
      "Epoch: 9, Mini-Batches Completed: 400 Train Accuracy = 97.875%\n",
      "Epoch: 9, Mini-Batches Completed: 800 Train Accuracy = 97.980%\n",
      "Epoch: 9, Mini-Batches Completed: 1200 Train Accuracy = 98.036%\n",
      "Epoch: 9, Mini-Batches Completed: 1600 Train Accuracy = 98.006%\n",
      "Epoch: 9, Mini-Batches Completed: 2000 Train Accuracy = 97.970%\n",
      "\n",
      "\n",
      "Epoch 9 summary stats:\n",
      "Train Loss: 0.0020, Train Accuracy = 97.970%\n",
      "\n",
      "\n",
      "\n",
      "\n",
      "Epoch: 10\n",
      "Epoch: 10, Mini-Batches Completed: 400 Train Accuracy = 98.352%\n",
      "Epoch: 10, Mini-Batches Completed: 800 Train Accuracy = 98.348%\n",
      "Epoch: 10, Mini-Batches Completed: 1200 Train Accuracy = 98.312%\n",
      "Epoch: 10, Mini-Batches Completed: 1600 Train Accuracy = 98.203%\n",
      "Epoch: 10, Mini-Batches Completed: 2000 Train Accuracy = 98.141%\n",
      "\n",
      "\n",
      "Epoch 10 summary stats:\n",
      "Train Loss: 0.0019, Train Accuracy = 98.141%\n",
      "\n",
      "\n",
      "\n",
      "\n"
     ]
    }
   ],
   "source": [
    "epochs = 10\n",
    "    \n",
    "\n",
    "for epoch in range(epochs):  \n",
    "    print(f'Epoch: {epoch+1}')\n",
    "\n",
    "    running_loss = 0.0\n",
    "    running_correct = 0.0 \n",
    "    running_total = 0.0\n",
    "    actual_loss = 0.0\n",
    "    # loop over training batches\n",
    "    for i, data in enumerate(train_loader, 0):\n",
    "        inputs, labels = data\n",
    "\n",
    "        inputs = inputs.to(device)\n",
    "        labels = labels.to(device)\n",
    "\n",
    "        # clear gradients\n",
    "        optimizer.zero_grad()\n",
    "\n",
    "        # forward propagation\n",
    "        outputs = model(inputs)\n",
    "\n",
    "        # compute loss\n",
    "        labels = labels.unsqueeze(1)\n",
    "        #print(outputs.shape)\n",
    "        #print(labels.shape)\n",
    "        loss =  BCE_criterion(outputs, labels)\n",
    "        #print(loss)\n",
    "\n",
    "\n",
    "        # backward propagation\n",
    "        loss.backward()\n",
    "        optimizer.step()\n",
    "\n",
    "        # add batch loss to running loss\n",
    "        running_loss += loss.item()\n",
    "        #_, predicted = torch.max(outputs.data, dim = 1)\n",
    "        predicted = sig(outputs) > 0.5\n",
    "        running_total += labels.size(0)\n",
    "        #print(running_total)\n",
    "        running_correct += (predicted == labels).sum().item()\n",
    "        del data\n",
    "        #print(running_total)\n",
    "\n",
    "        if i % 400 == 399:    \n",
    "            valcorrect = 0 \n",
    "            valtotal = 0 \n",
    "            running_val_loss = 0\n",
    "\n",
    "            with torch.no_grad():\n",
    "                # for data in val_loader:\n",
    "\n",
    "                #     x, labels = data\n",
    "\n",
    "                #     x = x.to(device)\n",
    "                #     labels = labels.to(device)\n",
    "\n",
    "                #     outputs = model(x)\n",
    "                #     labels = labels.unsqueeze(1)\n",
    "                #     val_loss =  BCE_criterion(outputs, labels)\n",
    "                #     # if multiclass\n",
    "                #     #val_loss =  CE_criterion(outputs, labels)\n",
    "                #     #_, predicted = torch.max(outputs.data, dim = 1)\n",
    "\n",
    "                #     predicted = sig(outputs) > 0.5\n",
    "\n",
    "                #     valtotal += labels.size(0)\n",
    "\n",
    "                #     valcorrect += (predicted == labels).sum().item()\n",
    "                    \n",
    "                #     running_val_loss += val_loss.item() \n",
    "\n",
    "                # val_accuracy = 100 * valcorrect / valtotal\n",
    "                accuracy = 100 * running_correct / running_total\n",
    "                epoch_num = epoch + 1\n",
    "                \n",
    "                print(f'Epoch: {epoch_num}, Mini-Batches Completed: {(i+1)} Train Accuracy = {accuracy:.3f}%')\n",
    "                # print(f'Epoch: {epoch_num}, Mini-Batches Completed: {(i+1)} Val Accuracy = {val_accuracy:.3f}%')\n",
    "                \n",
    "\n",
    "    actual_loss = running_loss / running_total\n",
    "    # actual_val_loss = running_val_loss / valtotal\n",
    "    epoch_log.append(epoch_num)\n",
    "    loss_log.append(actual_loss)\n",
    "    # val_loss_log.append(actual_val_loss)\n",
    "    accuracy_log.append(accuracy)\n",
    "    # val_accuracy_log.append(val_accuracy)\n",
    "    print('\\n')\n",
    "    print(f\"Epoch {epoch_num} summary stats:\")\n",
    "    print(f'Train Loss: {actual_loss:.4f}, Train Accuracy = {accuracy:.3f}%')\n",
    "    # print(f'Val Loss: {actual_val_loss:.4f}, Val Accuracy = {val_accuracy:.3f}%')\n",
    "    print('\\n')\n",
    "    print('\\n')"
   ]
  },
  {
   "cell_type": "code",
   "execution_count": null,
   "id": "48ad7941-9942-4988-820a-465c668cb4fb",
   "metadata": {},
   "outputs": [],
   "source": [
    "optimizer = torch.optim.Adam(model.parameters(), lr=0.0001)"
   ]
  },
  {
   "cell_type": "code",
   "execution_count": null,
   "id": "aacce466-f987-4a0f-9d50-ede3fe9a395f",
   "metadata": {},
   "outputs": [],
   "source": [
    "#torch.save(model.state_dict(), 'SBTveto_vacuum_multiclass_NN_SBT_E_signal_xyz.pth')"
   ]
  },
  {
   "cell_type": "code",
   "execution_count": null,
   "id": "bb1d4ce4-6fc9-4eb3-b0ff-7c4ab8867ec8",
   "metadata": {},
   "outputs": [],
   "source": [
    "#!ls data"
   ]
  },
  {
   "cell_type": "code",
   "execution_count": 60,
   "id": "3f068d6d-0c7d-4b58-aa56-d14c092ac35e",
   "metadata": {},
   "outputs": [
    {
     "data": {
      "text/plain": [
       "NN(\n",
       "  (_layers): ModuleList(\n",
       "    (0): Linear(in_features=2003, out_features=32, bias=True)\n",
       "    (1): Linear(in_features=32, out_features=32, bias=True)\n",
       "    (2): Linear(in_features=32, out_features=16, bias=True)\n",
       "    (3): Linear(in_features=16, out_features=8, bias=True)\n",
       "  )\n",
       "  (_batch_norms): ModuleList(\n",
       "    (0-1): 2 x BatchNorm1d(32, eps=1e-05, momentum=0.1, affine=True, track_running_stats=True)\n",
       "    (2): BatchNorm1d(16, eps=1e-05, momentum=0.1, affine=True, track_running_stats=True)\n",
       "    (3): BatchNorm1d(8, eps=1e-05, momentum=0.1, affine=True, track_running_stats=True)\n",
       "  )\n",
       "  (_dropout): Dropout(p=0, inplace=False)\n",
       "  (_output_layer): Linear(in_features=8, out_features=3, bias=True)\n",
       ")"
      ]
     },
     "execution_count": 60,
     "metadata": {},
     "output_type": "execute_result"
    }
   ],
   "source": [
    "#model.load_state_dict(torch.load(\"data/SBTveto_vacuum_multiclass_NN_SBT_E_signal_xyz.pth\", weights_only=True))\n",
    "#model.eval()"
   ]
  },
  {
   "cell_type": "code",
   "execution_count": 63,
   "id": "343cd17b-1bbe-447a-9bb0-4888038ebb40",
   "metadata": {},
   "outputs": [],
   "source": [
    "ypreds=[]\n",
    "ys =[]\n"
   ]
  },
  {
   "cell_type": "code",
   "execution_count": 65,
   "id": "b21f25dd-b1df-439c-ae6f-9ebd9fae254d",
   "metadata": {},
   "outputs": [],
   "source": [
    "for data in val_loader:\n",
    "\n",
    "    # apply model to validation batch\n",
    "    x, labels = data\n",
    "\n",
    "    x = x.to(device)\n",
    "    labels = labels.to(device)\n",
    "\n",
    "    outputs = model(x)\n",
    "    labels = labels.unsqueeze(1)\n",
    "    val_loss =  criterion(outputs, labels)\n",
    "\n",
    "    predicted = sig(outputs.data)\n",
    "    ys.append(labels.cpu().detach().numpy())\n",
    "    ypreds.append(predicted.cpu().detach().numpy() > 0.5)"
   ]
  },
  {
   "cell_type": "code",
   "execution_count": 66,
   "id": "71d4ef28-b5c2-4bbb-9c81-64f68adcf6a1",
   "metadata": {},
   "outputs": [],
   "source": [
    "ypred = np.concatenate(ypreds)\n",
    "true = np.concatenate(ys)"
   ]
  },
  {
   "cell_type": "code",
   "execution_count": 67,
   "id": "f989fbfa-2b4d-435d-8aa3-ac277fc65195",
   "metadata": {},
   "outputs": [
    {
     "data": {
      "text/plain": [
       "np.float64(0.9205904810384322)"
      ]
     },
     "execution_count": 67,
     "metadata": {},
     "output_type": "execute_result"
    }
   ],
   "source": [
    "np.sum(ypred==true)/len(ypred)"
   ]
  },
  {
   "cell_type": "code",
   "execution_count": 68,
   "id": "9d21e2bb-7a3a-4a4e-a5a3-fcf1cb9a91fa",
   "metadata": {},
   "outputs": [],
   "source": [
    "from sklearn import metrics\n",
    "import numpy as np\n",
    "import matplotlib.pyplot as plt"
   ]
  },
  {
   "cell_type": "code",
   "execution_count": 69,
   "id": "fee35a34-f8d5-4cb4-8c6f-06e681c854bd",
   "metadata": {},
   "outputs": [],
   "source": [
    "from sklearn.metrics import confusion_matrix\n",
    "\n",
    "cm = confusion_matrix(true, ypred)"
   ]
  },
  {
   "cell_type": "code",
   "execution_count": 70,
   "id": "f3f31ad4-5318-4e82-806d-4becedb591ae",
   "metadata": {},
   "outputs": [
    {
     "data": {
      "text/plain": [
       "array([[1656,  181],\n",
       "       [ 131, 1961]])"
      ]
     },
     "execution_count": 70,
     "metadata": {},
     "output_type": "execute_result"
    }
   ],
   "source": [
    "cm"
   ]
  },
  {
   "cell_type": "code",
   "execution_count": 71,
   "id": "9a40072c-cd34-48a2-9f77-7978d88b2a18",
   "metadata": {},
   "outputs": [
    {
     "data": {
      "text/plain": [
       "array([[1656,  181],\n",
       "       [ 131, 1961]])"
      ]
     },
     "execution_count": 71,
     "metadata": {},
     "output_type": "execute_result"
    }
   ],
   "source": [
    "cm"
   ]
  },
  {
   "cell_type": "code",
   "execution_count": null,
   "id": "7cbcf22c-9817-4d28-bf6f-818df7ed4724",
   "metadata": {},
   "outputs": [],
   "source": []
  },
  {
   "cell_type": "code",
   "execution_count": 73,
   "id": "8642a8cb-b61c-48c9-becf-805c23c056f5",
   "metadata": {},
   "outputs": [],
   "source": [
    "preds=ypred"
   ]
  },
  {
   "cell_type": "code",
   "execution_count": 74,
   "id": "f5669376-d867-403b-978d-e82a7577f13c",
   "metadata": {},
   "outputs": [
    {
     "data": {
      "text/plain": [
       "np.float64(0.9205904810384322)"
      ]
     },
     "execution_count": 74,
     "metadata": {},
     "output_type": "execute_result"
    }
   ],
   "source": [
    "np.sum(preds == true)/true.shape[0]"
   ]
  },
  {
   "cell_type": "code",
   "execution_count": 75,
   "id": "22edb0b7-3bf1-46d2-8ecb-a462343343c4",
   "metadata": {},
   "outputs": [],
   "source": [
    "labels=['signal',r'$\\nu$-DIS']#, r'$\\mu$-DIS']\n",
    "from sklearn.metrics import confusion_matrix\n",
    "\n",
    "cm = confusion_matrix(true, preds)"
   ]
  },
  {
   "cell_type": "code",
   "execution_count": 76,
   "id": "0294d48b-5c00-4388-b942-7e0d11e3f715",
   "metadata": {},
   "outputs": [],
   "source": [
    "cmnew =cm/np.expand_dims(np.sum(cm,1),1)"
   ]
  },
  {
   "cell_type": "code",
   "execution_count": 77,
   "id": "5a5ef3d0-3869-4a7f-9d0c-98e7cf566024",
   "metadata": {},
   "outputs": [],
   "source": [
    "def plot_errorband(x, y, y_err, label, color):\n",
    "    plt.plot(x, y, color=color, ls='solid', label=label)\n",
    "    plt.fill_between(x, y_err[0],y_err[1], color=color, alpha=0.3, lw=0)\n",
    "   \n",
    "    \n",
    "def init_thesis_plot_style():\n",
    "    my_rc_params = {\n",
    "        \"xtick.direction\": \"in\",\n",
    "        \"xtick.major.size\": 8.0,\n",
    "        \"xtick.minor.size\": 4.0,\n",
    "        \"xtick.minor.visible\": True,\n",
    "        \"xtick.major.width\": 1.2,\n",
    "        \"xtick.minor.width\": 0.9,\n",
    "        \"ytick.direction\": \"in\",\n",
    "        \"ytick.major.size\": 8.0,\n",
    "        \"ytick.minor.size\": 4.0,\n",
    "        \"ytick.minor.visible\": True,\n",
    "        \"ytick.major.width\": 1.2,\n",
    "        \"ytick.minor.width\": 0.9,\n",
    "        \"errorbar.capsize\": 2,\n",
    "        \"axes.linewidth\": 1.2,\n",
    "        # \"font.familiy\": \"serif\",\n",
    "        \"font.size\": 14,\n",
    "        \"axes.grid\": False,\n",
    "        \"ytick.right\": True,\n",
    "        \"xtick.top\": True\n",
    "    }\n",
    "    return(my_rc_params)\n",
    "class Tango(object):\n",
    "    scarlet_red_light = '#ef2929'\n",
    "    scarlet_red = '#cc0000'\n",
    "    scarlet_red_dark = '#a40000'\n",
    "\n",
    "    aluminium_light = '#eeeeec'\n",
    "    aluminium = '#d3d7cf'\n",
    "    aluminium_dark = '#babdb6'\n",
    "\n",
    "    butter_light = '#fce94f'\n",
    "    butter = '#edd400'\n",
    "    butter_dark = '#c4a000'\n",
    "\n",
    "    chameleon_light = '#8ae234'\n",
    "    chameleon = '#73d216'\n",
    "    chameleon_dark = '#4e9a06'\n",
    "\n",
    "    orange_light = '#fcaf3e'\n",
    "    orange = '#f57900'\n",
    "    orange_dark = '#ce5c00'\n",
    "\n",
    "    chocolate_light = '#e9b96e'\n",
    "    chocolate = '#c17d11'\n",
    "    chocolate_dark = '#8f5902'\n",
    "\n",
    "    sky_blue_light = '#729fcf'\n",
    "    sky_blue = '#3465a4'\n",
    "    sky_blue_dark = '#204a87'\n",
    "\n",
    "    plum_light = '#ad7fa8'\n",
    "    plum = '#75507b'\n",
    "    plum_dark = '#5c3566'\n",
    "\n",
    "    slate_light = '#888a85'\n",
    "    slate = '#555753'\n",
    "    slate_dark = '#2e3436'\n",
    "\n",
    "init_thesis_plot_style()\n",
    "plt.rcParams.update(init_thesis_plot_style())"
   ]
  },
  {
   "cell_type": "code",
   "execution_count": null,
   "id": "16737203-5580-4b9e-adbf-1a87908ec19c",
   "metadata": {},
   "outputs": [],
   "source": []
  },
  {
   "cell_type": "code",
   "execution_count": 78,
   "id": "87ba83b8-22b0-41b6-980c-2301a66b34ad",
   "metadata": {},
   "outputs": [
    {
     "data": {
      "image/png": "[encoded data removed]",
      "text/plain": [
       "<Figure size 640x480 with 2 Axes>"
      ]
     },
     "metadata": {},
     "output_type": "display_data"
    }
   ],
   "source": [
    "import seaborn as sns\n",
    "from matplotlib.colors import LogNorm\n",
    "sns.heatmap(cmnew, \n",
    "            fmt='.2%', norm= LogNorm(),\n",
    "            annot=True,  xticklabels=labels, yticklabels=labels, cmap='Blues')\n",
    "plt.savefig('NN_SHIP_Dec_Confusion_binary.png')"
   ]
  },
  {
   "cell_type": "code",
   "execution_count": 130,
   "id": "b7e02efa-07fc-465c-b0b6-4082aa8d8f13",
   "metadata": {},
   "outputs": [
    {
     "data": {
      "text/plain": [
       "<matplotlib.legend.Legend at 0x7f7f569059a0>"
      ]
     },
     "execution_count": 130,
     "metadata": {},
     "output_type": "execute_result"
    },
    {
     "data": {
      "image/png": "[encoded data removed]",
      "text/plain": [
       "<Figure size 640x480 with 1 Axes>"
      ]
     },
     "metadata": {},
     "output_type": "display_data"
    }
   ],
   "source": [
    "import matplotlib.pyplot as plt\n",
    "epochs = np.arange(0, len(loss_log)+1)\n",
    "\n",
    "plt.plot(epochs[1:],np.array(loss_log)*32./len(traindata), label=\"Train\")\n",
    "plt.plot(epochs[1:],np.array(val_loss_log)*32./len(testdata), label=\"Val\")\n",
    "plt.xlabel('Epochs')\n",
    "plt.ylabel('Loss')\n",
    "plt.legend()"
   ]
  },
  {
   "cell_type": "code",
   "execution_count": 127,
   "id": "8728bcef-8401-4fa1-98c0-7f752fb42c10",
   "metadata": {},
   "outputs": [
    {
     "data": {
      "text/plain": [
       "<matplotlib.legend.Legend at 0x7f7f5c8467e0>"
      ]
     },
     "execution_count": 127,
     "metadata": {},
     "output_type": "execute_result"
    },
    {
     "data": {
      "image/png": "[encoded data removed]",
      "text/plain": [
       "<Figure size 640x480 with 1 Axes>"
      ]
     },
     "metadata": {},
     "output_type": "display_data"
    }
   ],
   "source": [
    "import matplotlib.pyplot as plt\n",
    "epochs = np.arange(0 ,len(loss_log)+1)\n",
    "\n",
    "plt.plot(epochs[1:],np.array(loss_log), label=\"Train\")\n",
    "plt.plot(epochs[1:],np.array(val_loss_log), label=\"Val\")\n",
    "plt.xlabel('Epochs')\n",
    "plt.ylabel('Loss')\n",
    "plt.legend()"
   ]
  },
  {
   "cell_type": "code",
   "execution_count": 131,
   "id": "b032d923-c482-4448-939b-e71fef631f71",
   "metadata": {},
   "outputs": [
    {
     "data": {
      "text/plain": [
       "array([ 0,  1,  2,  3,  4,  5,  6,  7,  8,  9, 10])"
      ]
     },
     "execution_count": 131,
     "metadata": {},
     "output_type": "execute_result"
    }
   ],
   "source": [
    "epochs"
   ]
  },
  {
   "cell_type": "code",
   "execution_count": null,
   "id": "3b96f81a-335d-4853-bc9c-7dbabdec37a2",
   "metadata": {},
   "outputs": [],
   "source": []
  }
 ],
 "metadata": {
  "kernelspec": {
   "display_name": "Python 3 (ipykernel)",
   "language": "python",
   "name": "python3"
  },
  "language_info": {
   "codemirror_mode": {
    "name": "ipython",
    "version": 3
   },
   "file_extension": ".py",
   "mimetype": "text/x-python",
   "name": "python",
   "nbconvert_exporter": "python",
   "pygments_lexer": "ipython3",
   "version": "3.12.5"
  }
 },
 "nbformat": 4,
 "nbformat_minor": 5
}
