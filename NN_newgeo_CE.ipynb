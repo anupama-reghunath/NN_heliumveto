{
 "cells": [
  {
   "cell_type": "code",
   "execution_count": 22,
   "id": "1d809814-2af1-4d9c-844a-1e843d521e6b",
   "metadata": {},
   "outputs": [],
   "source": [
    "import glob\n",
    "import uproot\n",
    "import numpy as np\n",
    "from sbtveto.model.nn_model import NN\n",
    "import torch"
   ]
  },
  {
   "cell_type": "code",
   "execution_count": 23,
   "id": "5077ca9a-d249-4758-9ce1-655cdc2d338a",
   "metadata": {},
   "outputs": [
    {
     "name": "stdout",
     "output_type": "stream",
     "text": [
      "h5_files  root_files  SBT_new_geo_XYZ.npy  SBT_XYZ.npy\tsignal\n"
     ]
    }
   ],
   "source": [
    "!ls ../NN_data"
   ]
  },
  {
   "cell_type": "code",
   "execution_count": null,
   "id": "0b1509bf-5180-407a-a698-28d41fb0351c",
   "metadata": {},
   "outputs": [],
   "source": []
  },
  {
   "cell_type": "code",
   "execution_count": 24,
   "id": "80d0a1d2-72a1-4d73-836c-efdb5d4e3271",
   "metadata": {},
   "outputs": [],
   "source": [
    "XYZ =np.load(\"../NN_data/SBT_new_geo_XYZ.npy\")"
   ]
  },
  {
   "cell_type": "code",
   "execution_count": 25,
   "id": "96f12fcb-29df-4b00-9133-da98ceb6a58a",
   "metadata": {},
   "outputs": [
    {
     "name": "stdout",
     "output_type": "stream",
     "text": [
      "datafile_EMBG_0_0.h5  datafile_EMBG_0_0.root\n"
     ]
    }
   ],
   "source": [
    "!ls ../NN_data/signal"
   ]
  },
  {
   "cell_type": "code",
   "execution_count": 26,
   "id": "d1e06130-9401-4aff-861d-415740f3d960",
   "metadata": {},
   "outputs": [],
   "source": [
    "neu_files = glob.glob(\"../new_NN_data/root_files/*neuDIS*.root\")\n",
    "mu_files = glob.glob(\"../new_NN_data/root_files/*muDIS*.root\")\n",
    "#embg_files = glob.glob(\"../SBT/ml_dataset/*EMBG*.root\")\n",
    "embg_files = glob.glob(\"../new_NN_data/root_files/*EMBG*.root\")"
   ]
  },
  {
   "cell_type": "code",
   "execution_count": null,
   "id": "8be7db71-2e61-499f-a8f0-58d824b37fe6",
   "metadata": {},
   "outputs": [],
   "source": []
  },
  {
   "cell_type": "code",
   "execution_count": 27,
   "id": "68f08a97-dc7a-42e1-b101-159de1ff37f2",
   "metadata": {},
   "outputs": [],
   "source": [
    "#embg_files"
   ]
  },
  {
   "cell_type": "code",
   "execution_count": 28,
   "id": "8e8578ec-f3ba-4f54-bec2-8d0bcfdaf79d",
   "metadata": {},
   "outputs": [],
   "source": [
    "#len(mu_files)"
   ]
  },
  {
   "cell_type": "code",
   "execution_count": 29,
   "id": "ea0bb459-b1ef-4f3e-b7e5-e907ce7df78b",
   "metadata": {},
   "outputs": [],
   "source": [
    "#file = uproot.open(neu_files[0])"
   ]
  },
  {
   "cell_type": "code",
   "execution_count": 30,
   "id": "effdaf40-79db-44df-aa5f-686cfe319d33",
   "metadata": {},
   "outputs": [],
   "source": [
    "#x = file['tree;1']['inputmatrix'].array()"
   ]
  },
  {
   "cell_type": "code",
   "execution_count": 31,
   "id": "e0e8e3a5-c802-440a-b9ef-81cca2b9d074",
   "metadata": {},
   "outputs": [],
   "source": [
    "#x = np.array(x)"
   ]
  },
  {
   "cell_type": "code",
   "execution_count": null,
   "id": "afeab5b4-9668-4a83-b551-3993271bbc56",
   "metadata": {},
   "outputs": [],
   "source": []
  },
  {
   "cell_type": "code",
   "execution_count": 43,
   "id": "e03a49e7-cd4c-458e-9d12-0f093f5f1c1a",
   "metadata": {},
   "outputs": [
    {
     "name": "stdout",
     "output_type": "stream",
     "text": [
      "13102\n",
      "15197\n",
      "16562\n"
     ]
    }
   ],
   "source": [
    "# prepare data from a root format\n",
    "\n",
    "to_concat = []\n",
    "ys_concat = []\n",
    "N=0\n",
    "for i in range(0,10):\n",
    "    file = uproot.open(neu_files[i])\n",
    "    x = file['tree;1']['inputmatrix'].array()\n",
    "    x = np.array(x)\n",
    "    # store SBT E, vertex x,y,z, t and signal info\n",
    "    x = np.hstack([x[:,:854],x[:,1708:1712], x[:, 1714:1717]])\n",
    "    #x = x[:,:1712]\n",
    "    N += x.shape[0]\n",
    "    to_concat.append(x)\n",
    "ys_concat.append(np.ones((N)))\n",
    "print(N)\n",
    "N=0\n",
    "for i in range(0,120):\n",
    "    file = uproot.open(mu_files[i])\n",
    "\n",
    "    x = file['tree;1']['inputmatrix'].array()\n",
    "    x = np.array(x)\n",
    "    if x.shape[0] < 1:\n",
    "        continue\n",
    "    x = np.hstack([x[:,:854],x[:,1708:1712], x[:, 1714:1717]])\n",
    "    #x = x[:,:1712]\n",
    "    N += x.shape[0]\n",
    "    to_concat.append(x)\n",
    "ys_concat.append(2*np.ones((N)))\n",
    "print(N)\n",
    "N=0\n",
    "for i in range(0,4):\n",
    "    file = uproot.open(embg_files[i])\n",
    "    x = file['tree;1']['inputmatrix'].array()\n",
    "    x = np.array(x)\n",
    "    x = np.hstack([x[:,:854],x[:,1708:1712], x[:, 1714:1717]])\n",
    "    #x = x[:,:1712]\n",
    "    N += x.shape[0]\n",
    "    to_concat.append(x)\n",
    "print(N)\n",
    "ys_concat.append(np.zeros((N)))"
   ]
  },
  {
   "cell_type": "code",
   "execution_count": 44,
   "id": "b2c4097b-b1fc-4076-843b-b8793f873a23",
   "metadata": {},
   "outputs": [],
   "source": [
    "#X"
   ]
  },
  {
   "cell_type": "code",
   "execution_count": 45,
   "id": "cd6f31c0-78ba-4a9d-bfa8-ffb845c5678e",
   "metadata": {},
   "outputs": [],
   "source": [
    "#X=np.concatenate(to_concat)[:,:-1]\n",
    "# get rid of last too columns no. ubt cells and  fill weight\n",
    "X=np.concatenate(to_concat) #[:,:-2]"
   ]
  },
  {
   "cell_type": "code",
   "execution_count": 46,
   "id": "f76b7b9c-d630-4ffb-ad8d-7d322372f2bb",
   "metadata": {},
   "outputs": [
    {
     "data": {
      "text/plain": [
       "(44861, 861)"
      ]
     },
     "execution_count": 46,
     "metadata": {},
     "output_type": "execute_result"
    }
   ],
   "source": [
    "X.shape"
   ]
  },
  {
   "cell_type": "code",
   "execution_count": 47,
   "id": "e2beb97a-8ede-4070-bab7-075cf8f4b272",
   "metadata": {},
   "outputs": [
    {
     "data": {
      "text/plain": [
       "(44861, 861)"
      ]
     },
     "execution_count": 47,
     "metadata": {},
     "output_type": "execute_result"
    }
   ],
   "source": [
    "X.shape"
   ]
  },
  {
   "cell_type": "code",
   "execution_count": 48,
   "id": "71ca9f4b-ed6f-4c17-8113-a71e7300b754",
   "metadata": {},
   "outputs": [],
   "source": [
    "#X[0,:2000].shape"
   ]
  },
  {
   "cell_type": "code",
   "execution_count": 49,
   "id": "e407e852-c0e9-4bb9-ba48-57f42573cf61",
   "metadata": {},
   "outputs": [],
   "source": [
    "# cut out cells without SBT hits\n",
    "Xcut = X[np.sum(X[:,:854],1)>0][:,:-3]"
   ]
  },
  {
   "cell_type": "code",
   "execution_count": 50,
   "id": "e99288a8-ea30-4445-842e-50a5ee3ffd53",
   "metadata": {},
   "outputs": [],
   "source": [
    "Xsig = X[np.sum(X[:,:854],1)>0][:,-3:]"
   ]
  },
  {
   "cell_type": "code",
   "execution_count": 51,
   "id": "a844a148-7ceb-400f-a0ec-5d24abc8cf9b",
   "metadata": {},
   "outputs": [
    {
     "data": {
      "text/plain": [
       "(43558, 858)"
      ]
     },
     "execution_count": 51,
     "metadata": {},
     "output_type": "execute_result"
    }
   ],
   "source": [
    "Xcut.shape"
   ]
  },
  {
   "cell_type": "code",
   "execution_count": 52,
   "id": "3f14b57e-6598-418b-9499-a95e8b182726",
   "metadata": {},
   "outputs": [],
   "source": [
    "y=np.concatenate(ys_concat)\n",
    "y = y.astype(int)\n",
    "ycut = y[np.sum(X[:,:854],1)>0]"
   ]
  },
  {
   "cell_type": "code",
   "execution_count": 53,
   "id": "3ceae2fb-ac3d-4f0b-afb6-274a9b509e23",
   "metadata": {},
   "outputs": [],
   "source": [
    "from sklearn.model_selection import train_test_split\n",
    "import torch\n",
    "from sklearn.preprocessing import RobustScaler, StandardScaler, MinMaxScaler\n",
    "import joblib"
   ]
  },
  {
   "cell_type": "code",
   "execution_count": 54,
   "id": "89edbcb2-426d-44c8-90f0-76c2dffc981f",
   "metadata": {},
   "outputs": [
    {
     "data": {
      "text/html": [
       "<style>#sk-container-id-1 {\n",
       "  /* Definition of color scheme common for light and dark mode */\n",
       "  --sklearn-color-text: black;\n",
       "  --sklearn-color-line: gray;\n",
       "  /* Definition of color scheme for unfitted estimators */\n",
       "  --sklearn-color-unfitted-level-0: #fff5e6;\n",
       "  --sklearn-color-unfitted-level-1: #f6e4d2;\n",
       "  --sklearn-color-unfitted-level-2: #ffe0b3;\n",
       "  --sklearn-color-unfitted-level-3: chocolate;\n",
       "  /* Definition of color scheme for fitted estimators */\n",
       "  --sklearn-color-fitted-level-0: #f0f8ff;\n",
       "  --sklearn-color-fitted-level-1: #d4ebff;\n",
       "  --sklearn-color-fitted-level-2: #b3dbfd;\n",
       "  --sklearn-color-fitted-level-3: cornflowerblue;\n",
       "\n",
       "  /* Specific color for light theme */\n",
       "  --sklearn-color-text-on-default-background: var(--sg-text-color, var(--theme-code-foreground, var(--jp-content-font-color1, black)));\n",
       "  --sklearn-color-background: var(--sg-background-color, var(--theme-background, var(--jp-layout-color0, white)));\n",
       "  --sklearn-color-border-box: var(--sg-text-color, var(--theme-code-foreground, var(--jp-content-font-color1, black)));\n",
       "  --sklearn-color-icon: #696969;\n",
       "\n",
       "  @media (prefers-color-scheme: dark) {\n",
       "    /* Redefinition of color scheme for dark theme */\n",
       "    --sklearn-color-text-on-default-background: var(--sg-text-color, var(--theme-code-foreground, var(--jp-content-font-color1, white)));\n",
       "    --sklearn-color-background: var(--sg-background-color, var(--theme-background, var(--jp-layout-color0, #111)));\n",
       "    --sklearn-color-border-box: var(--sg-text-color, var(--theme-code-foreground, var(--jp-content-font-color1, white)));\n",
       "    --sklearn-color-icon: #878787;\n",
       "  }\n",
       "}\n",
       "\n",
       "#sk-container-id-1 {\n",
       "  color: var(--sklearn-color-text);\n",
       "}\n",
       "\n",
       "#sk-container-id-1 pre {\n",
       "  padding: 0;\n",
       "}\n",
       "\n",
       "#sk-container-id-1 input.sk-hidden--visually {\n",
       "  border: 0;\n",
       "  clip: rect(1px 1px 1px 1px);\n",
       "  clip: rect(1px, 1px, 1px, 1px);\n",
       "  height: 1px;\n",
       "  margin: -1px;\n",
       "  overflow: hidden;\n",
       "  padding: 0;\n",
       "  position: absolute;\n",
       "  width: 1px;\n",
       "}\n",
       "\n",
       "#sk-container-id-1 div.sk-dashed-wrapped {\n",
       "  border: 1px dashed var(--sklearn-color-line);\n",
       "  margin: 0 0.4em 0.5em 0.4em;\n",
       "  box-sizing: border-box;\n",
       "  padding-bottom: 0.4em;\n",
       "  background-color: var(--sklearn-color-background);\n",
       "}\n",
       "\n",
       "#sk-container-id-1 div.sk-container {\n",
       "  /* jupyter's `normalize.less` sets `[hidden] { display: none; }`\n",
       "     but bootstrap.min.css set `[hidden] { display: none !important; }`\n",
       "     so we also need the `!important` here to be able to override the\n",
       "     default hidden behavior on the sphinx rendered scikit-learn.org.\n",
       "     See: https://github.com/scikit-learn/scikit-learn/issues/21755 */\n",
       "  display: inline-block !important;\n",
       "  position: relative;\n",
       "}\n",
       "\n",
       "#sk-container-id-1 div.sk-text-repr-fallback {\n",
       "  display: none;\n",
       "}\n",
       "\n",
       "div.sk-parallel-item,\n",
       "div.sk-serial,\n",
       "div.sk-item {\n",
       "  /* draw centered vertical line to link estimators */\n",
       "  background-image: linear-gradient(var(--sklearn-color-text-on-default-background), var(--sklearn-color-text-on-default-background));\n",
       "  background-size: 2px 100%;\n",
       "  background-repeat: no-repeat;\n",
       "  background-position: center center;\n",
       "}\n",
       "\n",
       "/* Parallel-specific style estimator block */\n",
       "\n",
       "#sk-container-id-1 div.sk-parallel-item::after {\n",
       "  content: \"\";\n",
       "  width: 100%;\n",
       "  border-bottom: 2px solid var(--sklearn-color-text-on-default-background);\n",
       "  flex-grow: 1;\n",
       "}\n",
       "\n",
       "#sk-container-id-1 div.sk-parallel {\n",
       "  display: flex;\n",
       "  align-items: stretch;\n",
       "  justify-content: center;\n",
       "  background-color: var(--sklearn-color-background);\n",
       "  position: relative;\n",
       "}\n",
       "\n",
       "#sk-container-id-1 div.sk-parallel-item {\n",
       "  display: flex;\n",
       "  flex-direction: column;\n",
       "}\n",
       "\n",
       "#sk-container-id-1 div.sk-parallel-item:first-child::after {\n",
       "  align-self: flex-end;\n",
       "  width: 50%;\n",
       "}\n",
       "\n",
       "#sk-container-id-1 div.sk-parallel-item:last-child::after {\n",
       "  align-self: flex-start;\n",
       "  width: 50%;\n",
       "}\n",
       "\n",
       "#sk-container-id-1 div.sk-parallel-item:only-child::after {\n",
       "  width: 0;\n",
       "}\n",
       "\n",
       "/* Serial-specific style estimator block */\n",
       "\n",
       "#sk-container-id-1 div.sk-serial {\n",
       "  display: flex;\n",
       "  flex-direction: column;\n",
       "  align-items: center;\n",
       "  background-color: var(--sklearn-color-background);\n",
       "  padding-right: 1em;\n",
       "  padding-left: 1em;\n",
       "}\n",
       "\n",
       "\n",
       "/* Toggleable style: style used for estimator/Pipeline/ColumnTransformer box that is\n",
       "clickable and can be expanded/collapsed.\n",
       "- Pipeline and ColumnTransformer use this feature and define the default style\n",
       "- Estimators will overwrite some part of the style using the `sk-estimator` class\n",
       "*/\n",
       "\n",
       "/* Pipeline and ColumnTransformer style (default) */\n",
       "\n",
       "#sk-container-id-1 div.sk-toggleable {\n",
       "  /* Default theme specific background. It is overwritten whether we have a\n",
       "  specific estimator or a Pipeline/ColumnTransformer */\n",
       "  background-color: var(--sklearn-color-background);\n",
       "}\n",
       "\n",
       "/* Toggleable label */\n",
       "#sk-container-id-1 label.sk-toggleable__label {\n",
       "  cursor: pointer;\n",
       "  display: block;\n",
       "  width: 100%;\n",
       "  margin-bottom: 0;\n",
       "  padding: 0.5em;\n",
       "  box-sizing: border-box;\n",
       "  text-align: center;\n",
       "}\n",
       "\n",
       "#sk-container-id-1 label.sk-toggleable__label-arrow:before {\n",
       "  /* Arrow on the left of the label */\n",
       "  content: \"▸\";\n",
       "  float: left;\n",
       "  margin-right: 0.25em;\n",
       "  color: var(--sklearn-color-icon);\n",
       "}\n",
       "\n",
       "#sk-container-id-1 label.sk-toggleable__label-arrow:hover:before {\n",
       "  color: var(--sklearn-color-text);\n",
       "}\n",
       "\n",
       "/* Toggleable content - dropdown */\n",
       "\n",
       "#sk-container-id-1 div.sk-toggleable__content {\n",
       "  max-height: 0;\n",
       "  max-width: 0;\n",
       "  overflow: hidden;\n",
       "  text-align: left;\n",
       "  /* unfitted */\n",
       "  background-color: var(--sklearn-color-unfitted-level-0);\n",
       "}\n",
       "\n",
       "#sk-container-id-1 div.sk-toggleable__content.fitted {\n",
       "  /* fitted */\n",
       "  background-color: var(--sklearn-color-fitted-level-0);\n",
       "}\n",
       "\n",
       "#sk-container-id-1 div.sk-toggleable__content pre {\n",
       "  margin: 0.2em;\n",
       "  border-radius: 0.25em;\n",
       "  color: var(--sklearn-color-text);\n",
       "  /* unfitted */\n",
       "  background-color: var(--sklearn-color-unfitted-level-0);\n",
       "}\n",
       "\n",
       "#sk-container-id-1 div.sk-toggleable__content.fitted pre {\n",
       "  /* unfitted */\n",
       "  background-color: var(--sklearn-color-fitted-level-0);\n",
       "}\n",
       "\n",
       "#sk-container-id-1 input.sk-toggleable__control:checked~div.sk-toggleable__content {\n",
       "  /* Expand drop-down */\n",
       "  max-height: 200px;\n",
       "  max-width: 100%;\n",
       "  overflow: auto;\n",
       "}\n",
       "\n",
       "#sk-container-id-1 input.sk-toggleable__control:checked~label.sk-toggleable__label-arrow:before {\n",
       "  content: \"▾\";\n",
       "}\n",
       "\n",
       "/* Pipeline/ColumnTransformer-specific style */\n",
       "\n",
       "#sk-container-id-1 div.sk-label input.sk-toggleable__control:checked~label.sk-toggleable__label {\n",
       "  color: var(--sklearn-color-text);\n",
       "  background-color: var(--sklearn-color-unfitted-level-2);\n",
       "}\n",
       "\n",
       "#sk-container-id-1 div.sk-label.fitted input.sk-toggleable__control:checked~label.sk-toggleable__label {\n",
       "  background-color: var(--sklearn-color-fitted-level-2);\n",
       "}\n",
       "\n",
       "/* Estimator-specific style */\n",
       "\n",
       "/* Colorize estimator box */\n",
       "#sk-container-id-1 div.sk-estimator input.sk-toggleable__control:checked~label.sk-toggleable__label {\n",
       "  /* unfitted */\n",
       "  background-color: var(--sklearn-color-unfitted-level-2);\n",
       "}\n",
       "\n",
       "#sk-container-id-1 div.sk-estimator.fitted input.sk-toggleable__control:checked~label.sk-toggleable__label {\n",
       "  /* fitted */\n",
       "  background-color: var(--sklearn-color-fitted-level-2);\n",
       "}\n",
       "\n",
       "#sk-container-id-1 div.sk-label label.sk-toggleable__label,\n",
       "#sk-container-id-1 div.sk-label label {\n",
       "  /* The background is the default theme color */\n",
       "  color: var(--sklearn-color-text-on-default-background);\n",
       "}\n",
       "\n",
       "/* On hover, darken the color of the background */\n",
       "#sk-container-id-1 div.sk-label:hover label.sk-toggleable__label {\n",
       "  color: var(--sklearn-color-text);\n",
       "  background-color: var(--sklearn-color-unfitted-level-2);\n",
       "}\n",
       "\n",
       "/* Label box, darken color on hover, fitted */\n",
       "#sk-container-id-1 div.sk-label.fitted:hover label.sk-toggleable__label.fitted {\n",
       "  color: var(--sklearn-color-text);\n",
       "  background-color: var(--sklearn-color-fitted-level-2);\n",
       "}\n",
       "\n",
       "/* Estimator label */\n",
       "\n",
       "#sk-container-id-1 div.sk-label label {\n",
       "  font-family: monospace;\n",
       "  font-weight: bold;\n",
       "  display: inline-block;\n",
       "  line-height: 1.2em;\n",
       "}\n",
       "\n",
       "#sk-container-id-1 div.sk-label-container {\n",
       "  text-align: center;\n",
       "}\n",
       "\n",
       "/* Estimator-specific */\n",
       "#sk-container-id-1 div.sk-estimator {\n",
       "  font-family: monospace;\n",
       "  border: 1px dotted var(--sklearn-color-border-box);\n",
       "  border-radius: 0.25em;\n",
       "  box-sizing: border-box;\n",
       "  margin-bottom: 0.5em;\n",
       "  /* unfitted */\n",
       "  background-color: var(--sklearn-color-unfitted-level-0);\n",
       "}\n",
       "\n",
       "#sk-container-id-1 div.sk-estimator.fitted {\n",
       "  /* fitted */\n",
       "  background-color: var(--sklearn-color-fitted-level-0);\n",
       "}\n",
       "\n",
       "/* on hover */\n",
       "#sk-container-id-1 div.sk-estimator:hover {\n",
       "  /* unfitted */\n",
       "  background-color: var(--sklearn-color-unfitted-level-2);\n",
       "}\n",
       "\n",
       "#sk-container-id-1 div.sk-estimator.fitted:hover {\n",
       "  /* fitted */\n",
       "  background-color: var(--sklearn-color-fitted-level-2);\n",
       "}\n",
       "\n",
       "/* Specification for estimator info (e.g. \"i\" and \"?\") */\n",
       "\n",
       "/* Common style for \"i\" and \"?\" */\n",
       "\n",
       ".sk-estimator-doc-link,\n",
       "a:link.sk-estimator-doc-link,\n",
       "a:visited.sk-estimator-doc-link {\n",
       "  float: right;\n",
       "  font-size: smaller;\n",
       "  line-height: 1em;\n",
       "  font-family: monospace;\n",
       "  background-color: var(--sklearn-color-background);\n",
       "  border-radius: 1em;\n",
       "  height: 1em;\n",
       "  width: 1em;\n",
       "  text-decoration: none !important;\n",
       "  margin-left: 1ex;\n",
       "  /* unfitted */\n",
       "  border: var(--sklearn-color-unfitted-level-1) 1pt solid;\n",
       "  color: var(--sklearn-color-unfitted-level-1);\n",
       "}\n",
       "\n",
       ".sk-estimator-doc-link.fitted,\n",
       "a:link.sk-estimator-doc-link.fitted,\n",
       "a:visited.sk-estimator-doc-link.fitted {\n",
       "  /* fitted */\n",
       "  border: var(--sklearn-color-fitted-level-1) 1pt solid;\n",
       "  color: var(--sklearn-color-fitted-level-1);\n",
       "}\n",
       "\n",
       "/* On hover */\n",
       "div.sk-estimator:hover .sk-estimator-doc-link:hover,\n",
       ".sk-estimator-doc-link:hover,\n",
       "div.sk-label-container:hover .sk-estimator-doc-link:hover,\n",
       ".sk-estimator-doc-link:hover {\n",
       "  /* unfitted */\n",
       "  background-color: var(--sklearn-color-unfitted-level-3);\n",
       "  color: var(--sklearn-color-background);\n",
       "  text-decoration: none;\n",
       "}\n",
       "\n",
       "div.sk-estimator.fitted:hover .sk-estimator-doc-link.fitted:hover,\n",
       ".sk-estimator-doc-link.fitted:hover,\n",
       "div.sk-label-container:hover .sk-estimator-doc-link.fitted:hover,\n",
       ".sk-estimator-doc-link.fitted:hover {\n",
       "  /* fitted */\n",
       "  background-color: var(--sklearn-color-fitted-level-3);\n",
       "  color: var(--sklearn-color-background);\n",
       "  text-decoration: none;\n",
       "}\n",
       "\n",
       "/* Span, style for the box shown on hovering the info icon */\n",
       ".sk-estimator-doc-link span {\n",
       "  display: none;\n",
       "  z-index: 9999;\n",
       "  position: relative;\n",
       "  font-weight: normal;\n",
       "  right: .2ex;\n",
       "  padding: .5ex;\n",
       "  margin: .5ex;\n",
       "  width: min-content;\n",
       "  min-width: 20ex;\n",
       "  max-width: 50ex;\n",
       "  color: var(--sklearn-color-text);\n",
       "  box-shadow: 2pt 2pt 4pt #999;\n",
       "  /* unfitted */\n",
       "  background: var(--sklearn-color-unfitted-level-0);\n",
       "  border: .5pt solid var(--sklearn-color-unfitted-level-3);\n",
       "}\n",
       "\n",
       ".sk-estimator-doc-link.fitted span {\n",
       "  /* fitted */\n",
       "  background: var(--sklearn-color-fitted-level-0);\n",
       "  border: var(--sklearn-color-fitted-level-3);\n",
       "}\n",
       "\n",
       ".sk-estimator-doc-link:hover span {\n",
       "  display: block;\n",
       "}\n",
       "\n",
       "/* \"?\"-specific style due to the `<a>` HTML tag */\n",
       "\n",
       "#sk-container-id-1 a.estimator_doc_link {\n",
       "  float: right;\n",
       "  font-size: 1rem;\n",
       "  line-height: 1em;\n",
       "  font-family: monospace;\n",
       "  background-color: var(--sklearn-color-background);\n",
       "  border-radius: 1rem;\n",
       "  height: 1rem;\n",
       "  width: 1rem;\n",
       "  text-decoration: none;\n",
       "  /* unfitted */\n",
       "  color: var(--sklearn-color-unfitted-level-1);\n",
       "  border: var(--sklearn-color-unfitted-level-1) 1pt solid;\n",
       "}\n",
       "\n",
       "#sk-container-id-1 a.estimator_doc_link.fitted {\n",
       "  /* fitted */\n",
       "  border: var(--sklearn-color-fitted-level-1) 1pt solid;\n",
       "  color: var(--sklearn-color-fitted-level-1);\n",
       "}\n",
       "\n",
       "/* On hover */\n",
       "#sk-container-id-1 a.estimator_doc_link:hover {\n",
       "  /* unfitted */\n",
       "  background-color: var(--sklearn-color-unfitted-level-3);\n",
       "  color: var(--sklearn-color-background);\n",
       "  text-decoration: none;\n",
       "}\n",
       "\n",
       "#sk-container-id-1 a.estimator_doc_link.fitted:hover {\n",
       "  /* fitted */\n",
       "  background-color: var(--sklearn-color-fitted-level-3);\n",
       "}\n",
       "</style><div id=\"sk-container-id-1\" class=\"sk-top-container\"><div class=\"sk-text-repr-fallback\"><pre>RobustScaler()</pre><b>In a Jupyter environment, please rerun this cell to show the HTML representation or trust the notebook. <br />On GitHub, the HTML representation is unable to render, please try loading this page with nbviewer.org.</b></div><div class=\"sk-container\" hidden><div class=\"sk-item\"><div class=\"sk-estimator fitted sk-toggleable\"><input class=\"sk-toggleable__control sk-hidden--visually\" id=\"sk-estimator-id-1\" type=\"checkbox\" checked><label for=\"sk-estimator-id-1\" class=\"sk-toggleable__label fitted sk-toggleable__label-arrow fitted\">&nbsp;&nbsp;RobustScaler<a class=\"sk-estimator-doc-link fitted\" rel=\"noreferrer\" target=\"_blank\" href=\"https://scikit-learn.org/1.5/modules/generated/sklearn.preprocessing.RobustScaler.html\">?<span>Documentation for RobustScaler</span></a><span class=\"sk-estimator-doc-link fitted\">i<span>Fitted</span></span></label><div class=\"sk-toggleable__content fitted\"><pre>RobustScaler()</pre></div> </div></div></div></div>"
      ],
      "text/plain": [
       "RobustScaler()"
      ]
     },
     "execution_count": 54,
     "metadata": {},
     "output_type": "execute_result"
    }
   ],
   "source": [
    "scaler = RobustScaler()\n",
    "#scaler = StandardScaler()\n",
    "#scaler = MinMaxScaler()\n",
    "scaler.fit(Xcut)"
   ]
  },
  {
   "cell_type": "code",
   "execution_count": 55,
   "id": "39bf8156-d2d0-482f-97ea-57393f52c595",
   "metadata": {},
   "outputs": [],
   "source": [
    "Xcut = scaler.transform(Xcut)"
   ]
  },
  {
   "cell_type": "code",
   "execution_count": 56,
   "id": "8d48ca13-3c12-4a13-8ee2-e9ce44c7b311",
   "metadata": {},
   "outputs": [
    {
     "data": {
      "text/plain": [
       "['robust_scaler.pkl']"
      ]
     },
     "execution_count": 56,
     "metadata": {},
     "output_type": "execute_result"
    }
   ],
   "source": [
    "joblib.dump(scaler, 'robust_scaler.pkl')"
   ]
  },
  {
   "cell_type": "code",
   "execution_count": 57,
   "id": "5ed4dbb6-b743-4477-ae18-83133a90dde5",
   "metadata": {},
   "outputs": [
    {
     "data": {
      "text/plain": [
       "{'copy': True,\n",
       " 'quantile_range': (25.0, 75.0),\n",
       " 'unit_variance': False,\n",
       " 'with_centering': True,\n",
       " 'with_scaling': True}"
      ]
     },
     "execution_count": 57,
     "metadata": {},
     "output_type": "execute_result"
    }
   ],
   "source": [
    "scaler.get_params()"
   ]
  },
  {
   "cell_type": "code",
   "execution_count": 58,
   "id": "025fee3c-a3ad-4297-829a-b02d9f02d3cb",
   "metadata": {},
   "outputs": [],
   "source": [
    "#scaler.scale_"
   ]
  },
  {
   "cell_type": "code",
   "execution_count": 27,
   "id": "ef429b78-a7a8-4e91-bfd6-3a488b7f8720",
   "metadata": {},
   "outputs": [],
   "source": [
    "import json\n",
    "\n",
    "scaler_params = {\n",
    "     'center_': scaler.center_.tolist(),\n",
    "     'scale_': scaler.scale_.tolist()\n",
    " }\n",
    "\n",
    "with open('data/robust_scaler_new_geo.json', 'w') as f:\n",
    "    json.dump(scaler_params, f)"
   ]
  },
  {
   "cell_type": "code",
   "execution_count": 59,
   "id": "ed6d5dda-b690-41ce-a2cb-f28ac5c2f790",
   "metadata": {},
   "outputs": [],
   "source": [
    "X = torch.tensor(Xcut, dtype=torch.float)\n",
    "ycut= torch.tensor(ycut, dtype=torch.int64)\n",
    "#ycut= torch.tensor(ycut, dtype=torch.float)\n",
    "Xsig= torch.tensor(Xsig, dtype=torch.float)"
   ]
  },
  {
   "cell_type": "code",
   "execution_count": 60,
   "id": "a98758ef-a571-43a4-8762-8fc00c821c9d",
   "metadata": {},
   "outputs": [
    {
     "data": {
      "text/plain": [
       "torch.Size([43558, 858])"
      ]
     },
     "execution_count": 60,
     "metadata": {},
     "output_type": "execute_result"
    }
   ],
   "source": [
    "X.shape"
   ]
  },
  {
   "cell_type": "code",
   "execution_count": 61,
   "id": "f7c45cd0-1bc7-4aff-aeae-7c6ce6679766",
   "metadata": {},
   "outputs": [],
   "source": [
    "X_train, X_test, y_train, y_test, X_sig_train, X_sig_test = train_test_split(X,ycut, Xsig ,test_size= 0.2)"
   ]
  },
  {
   "cell_type": "code",
   "execution_count": 62,
   "id": "7f722f9c-496d-47dd-834c-52e16d9ab088",
   "metadata": {},
   "outputs": [
    {
     "data": {
      "text/plain": [
       "torch.Size([34846, 3])"
      ]
     },
     "execution_count": 62,
     "metadata": {},
     "output_type": "execute_result"
    }
   ],
   "source": [
    "X_sig_train.shape"
   ]
  },
  {
   "cell_type": "code",
   "execution_count": 80,
   "id": "cfb64c4a-7b30-4ca7-8bd4-69f8d2aeb960",
   "metadata": {},
   "outputs": [],
   "source": [
    "import torch\n",
    "from torch_geometric.loader import DataLoader\n",
    "\n",
    "traindata = torch.utils.data.TensorDataset(X_train,y_train, X_sig_train)\n",
    "train_loader = DataLoader(traindata, batch_size=32, shuffle=True)"
   ]
  },
  {
   "cell_type": "code",
   "execution_count": 81,
   "id": "a7abdfc2-4ab9-41d5-bb48-3f1f7885cb97",
   "metadata": {},
   "outputs": [],
   "source": [
    "\n",
    "testdata = torch.utils.data.TensorDataset(X_test, y_test, X_sig_test)\n",
    "val_loader = DataLoader(testdata, batch_size=32, shuffle=True )"
   ]
  },
  {
   "cell_type": "code",
   "execution_count": 82,
   "id": "1d8f8b7c-3852-4605-a254-1d5e78d73e7c",
   "metadata": {},
   "outputs": [
    {
     "data": {
      "text/plain": [
       "torch.Size([8712, 858])"
      ]
     },
     "execution_count": 82,
     "metadata": {},
     "output_type": "execute_result"
    }
   ],
   "source": [
    "X_test.shape"
   ]
  },
  {
   "cell_type": "code",
   "execution_count": 83,
   "id": "1e0fe9a8-b942-4f50-aa92-bb0c0f0209c2",
   "metadata": {},
   "outputs": [],
   "source": [
    "#multiple targets 3 targets\n",
    "#network = NN(2003,3,[32,32,32,16,8], dropout=0)\n",
    "network = NN(858,3,[32,32,32,16,8], dropout=0)\n",
    "\n",
    "#network = NN(1712,1,[32,32,32,16,8], dropout=0)"
   ]
  },
  {
   "cell_type": "code",
   "execution_count": 84,
   "id": "ecbcf793-d570-402f-8438-bfc339b3a1fd",
   "metadata": {},
   "outputs": [],
   "source": [
    "for b in train_loader:\n",
    "    #print(b)\n",
    "    network(b[0])\n",
    "    break"
   ]
  },
  {
   "cell_type": "code",
   "execution_count": null,
   "id": "087145d0-e908-4e9a-a7c4-cda65855361c",
   "metadata": {},
   "outputs": [],
   "source": []
  },
  {
   "cell_type": "code",
   "execution_count": 85,
   "id": "2d812e69-eded-460d-a7ea-51011ede01d6",
   "metadata": {},
   "outputs": [
    {
     "data": {
      "text/plain": [
       "NN(\n",
       "  (_layers): ModuleList(\n",
       "    (0): Linear(in_features=858, out_features=32, bias=True)\n",
       "    (1): Linear(in_features=32, out_features=32, bias=True)\n",
       "    (2): Linear(in_features=32, out_features=16, bias=True)\n",
       "    (3): Linear(in_features=16, out_features=8, bias=True)\n",
       "  )\n",
       "  (_batch_norms): ModuleList(\n",
       "    (0-1): 2 x BatchNorm1d(32, eps=1e-05, momentum=0.1, affine=True, track_running_stats=True)\n",
       "    (2): BatchNorm1d(16, eps=1e-05, momentum=0.1, affine=True, track_running_stats=True)\n",
       "    (3): BatchNorm1d(8, eps=1e-05, momentum=0.1, affine=True, track_running_stats=True)\n",
       "  )\n",
       "  (_dropout): Dropout(p=0, inplace=False)\n",
       "  (_output_layer): Linear(in_features=8, out_features=3, bias=True)\n",
       ")"
      ]
     },
     "execution_count": 85,
     "metadata": {},
     "output_type": "execute_result"
    }
   ],
   "source": [
    "network"
   ]
  },
  {
   "cell_type": "code",
   "execution_count": 86,
   "id": "afb60529-c1fc-46cb-b9b2-5fba63f15dda",
   "metadata": {},
   "outputs": [],
   "source": [
    "def count_parameters(model):\n",
    "    return sum(p.numel() for p in model.parameters() if p.requires_grad)\n"
   ]
  },
  {
   "cell_type": "code",
   "execution_count": 87,
   "id": "2dc8095f-9e8e-48d4-a7cf-496ae609a684",
   "metadata": {},
   "outputs": [
    {
     "data": {
      "text/plain": [
       "29411"
      ]
     },
     "execution_count": 87,
     "metadata": {},
     "output_type": "execute_result"
    }
   ],
   "source": [
    "# number of pars in the network\n",
    "count_parameters(network)"
   ]
  },
  {
   "cell_type": "code",
   "execution_count": 88,
   "id": "37131911-dbb6-4029-b618-e1ae2a0dc687",
   "metadata": {},
   "outputs": [],
   "source": [
    "from torch import nn\n"
   ]
  },
  {
   "cell_type": "code",
   "execution_count": null,
   "id": "ea787e94-5fa4-48b4-a92a-ec7843b8582e",
   "metadata": {},
   "outputs": [],
   "source": []
  },
  {
   "cell_type": "code",
   "execution_count": 89,
   "id": "73d4da33-427c-4f36-8629-adfa25174cda",
   "metadata": {},
   "outputs": [],
   "source": [
    "device='cuda'\n",
    "\n",
    "model = network\n",
    "model.cuda()\n",
    "\n",
    "# Loss and optimizer\n",
    "BCE_criterion = torch.nn.BCEWithLogitsLoss()\n",
    "optimizer = torch.optim.Adam(model.parameters())\n",
    "\n",
    "from datetime import datetime"
   ]
  },
  {
   "cell_type": "code",
   "execution_count": 90,
   "id": "3281eeae-9a40-4392-ab49-f49b9b2ec65c",
   "metadata": {},
   "outputs": [],
   "source": [
    "CE_criterion = nn.CrossEntropyLoss()"
   ]
  },
  {
   "cell_type": "code",
   "execution_count": 91,
   "id": "3a903f15-c0c2-46ff-bf1d-37bc92611b76",
   "metadata": {},
   "outputs": [],
   "source": [
    "model = model.cuda()\n",
    "\n",
    "epoch_log = []\n",
    "loss_log = []\n",
    "val_loss_log = []\n",
    "accuracy_log = []\n",
    "val_accuracy_log = []\n",
    "\n",
    "criterion = nn.CrossEntropyLoss()\n",
    "optimizer = torch.optim.Adam(model.parameters(), lr=0.001)\n",
    "sig = nn.Sigmoid()"
   ]
  },
  {
   "cell_type": "code",
   "execution_count": 93,
   "id": "f5413e49-fb2f-48a5-b5ca-d70ac83a347b",
   "metadata": {},
   "outputs": [
    {
     "name": "stdout",
     "output_type": "stream",
     "text": [
      "Epoch: 1\n",
      "Epoch: 1, Mini-Batches Completed: 400 Train Accuracy = 75.203%\n",
      "Epoch: 1, Mini-Batches Completed: 400 Val Accuracy = 82.048%\n",
      "Epoch: 1, Mini-Batches Completed: 800 Train Accuracy = 79.273%\n",
      "Epoch: 1, Mini-Batches Completed: 800 Val Accuracy = 83.838%\n",
      "\n",
      "\n",
      "Epoch 1 summary stats:\n",
      "Train Loss: 0.0155, Train Accuracy = 79.273%\n",
      "Val Loss: 0.0128, Val Accuracy = 83.838%\n",
      "\n",
      "\n",
      "\n",
      "\n",
      "Epoch: 2\n",
      "Epoch: 2, Mini-Batches Completed: 400 Train Accuracy = 86.156%\n",
      "Epoch: 2, Mini-Batches Completed: 400 Val Accuracy = 85.193%\n",
      "Epoch: 2, Mini-Batches Completed: 800 Train Accuracy = 86.676%\n",
      "Epoch: 2, Mini-Batches Completed: 800 Val Accuracy = 86.559%\n",
      "\n",
      "\n",
      "Epoch 2 summary stats:\n",
      "Train Loss: 0.0108, Train Accuracy = 86.676%\n",
      "Val Loss: 0.0111, Val Accuracy = 86.559%\n",
      "\n",
      "\n",
      "\n",
      "\n",
      "Epoch: 3\n",
      "Epoch: 3, Mini-Batches Completed: 400 Train Accuracy = 88.203%\n",
      "Epoch: 3, Mini-Batches Completed: 400 Val Accuracy = 87.902%\n",
      "Epoch: 3, Mini-Batches Completed: 800 Train Accuracy = 88.113%\n",
      "Epoch: 3, Mini-Batches Completed: 800 Val Accuracy = 87.615%\n",
      "\n",
      "\n",
      "Epoch 3 summary stats:\n",
      "Train Loss: 0.0096, Train Accuracy = 88.113%\n",
      "Val Loss: 0.0102, Val Accuracy = 87.615%\n",
      "\n",
      "\n",
      "\n",
      "\n",
      "Epoch: 4\n",
      "Epoch: 4, Mini-Batches Completed: 400 Train Accuracy = 89.266%\n",
      "Epoch: 4, Mini-Batches Completed: 400 Val Accuracy = 88.567%\n",
      "Epoch: 4, Mini-Batches Completed: 800 Train Accuracy = 89.668%\n",
      "Epoch: 4, Mini-Batches Completed: 800 Val Accuracy = 88.809%\n",
      "\n",
      "\n",
      "Epoch 4 summary stats:\n",
      "Train Loss: 0.0085, Train Accuracy = 89.668%\n",
      "Val Loss: 0.0094, Val Accuracy = 88.809%\n",
      "\n",
      "\n",
      "\n",
      "\n",
      "Epoch: 5\n",
      "Epoch: 5, Mini-Batches Completed: 400 Train Accuracy = 90.148%\n",
      "Epoch: 5, Mini-Batches Completed: 400 Val Accuracy = 89.096%\n",
      "Epoch: 5, Mini-Batches Completed: 800 Train Accuracy = 90.191%\n",
      "Epoch: 5, Mini-Batches Completed: 800 Val Accuracy = 89.107%\n",
      "\n",
      "\n",
      "Epoch 5 summary stats:\n",
      "Train Loss: 0.0080, Train Accuracy = 90.191%\n",
      "Val Loss: 0.0088, Val Accuracy = 89.107%\n",
      "\n",
      "\n",
      "\n",
      "\n",
      "Epoch: 6\n",
      "Epoch: 6, Mini-Batches Completed: 400 Train Accuracy = 91.562%\n",
      "Epoch: 6, Mini-Batches Completed: 400 Val Accuracy = 88.177%\n",
      "Epoch: 6, Mini-Batches Completed: 800 Train Accuracy = 91.199%\n",
      "Epoch: 6, Mini-Batches Completed: 800 Val Accuracy = 89.532%\n",
      "\n",
      "\n",
      "Epoch 6 summary stats:\n",
      "Train Loss: 0.0075, Train Accuracy = 91.199%\n",
      "Val Loss: 0.0088, Val Accuracy = 89.532%\n",
      "\n",
      "\n",
      "\n",
      "\n",
      "Epoch: 7\n",
      "Epoch: 7, Mini-Batches Completed: 400 Train Accuracy = 91.555%\n",
      "Epoch: 7, Mini-Batches Completed: 400 Val Accuracy = 89.497%\n",
      "Epoch: 7, Mini-Batches Completed: 800 Train Accuracy = 91.422%\n",
      "Epoch: 7, Mini-Batches Completed: 800 Val Accuracy = 90.312%\n",
      "\n",
      "\n",
      "Epoch 7 summary stats:\n",
      "Train Loss: 0.0071, Train Accuracy = 91.422%\n",
      "Val Loss: 0.0084, Val Accuracy = 90.312%\n",
      "\n",
      "\n",
      "\n",
      "\n",
      "Epoch: 8\n",
      "Epoch: 8, Mini-Batches Completed: 400 Train Accuracy = 91.945%\n",
      "Epoch: 8, Mini-Batches Completed: 400 Val Accuracy = 89.922%\n",
      "Epoch: 8, Mini-Batches Completed: 800 Train Accuracy = 91.891%\n",
      "Epoch: 8, Mini-Batches Completed: 800 Val Accuracy = 90.507%\n",
      "\n",
      "\n",
      "Epoch 8 summary stats:\n",
      "Train Loss: 0.0069, Train Accuracy = 91.891%\n",
      "Val Loss: 0.0082, Val Accuracy = 90.507%\n",
      "\n",
      "\n",
      "\n",
      "\n",
      "Epoch: 9\n",
      "Epoch: 9, Mini-Batches Completed: 400 Train Accuracy = 92.375%\n",
      "Epoch: 9, Mini-Batches Completed: 400 Val Accuracy = 90.312%\n",
      "Epoch: 9, Mini-Batches Completed: 800 Train Accuracy = 92.477%\n",
      "Epoch: 9, Mini-Batches Completed: 800 Val Accuracy = 91.001%\n",
      "\n",
      "\n",
      "Epoch 9 summary stats:\n",
      "Train Loss: 0.0064, Train Accuracy = 92.477%\n",
      "Val Loss: 0.0079, Val Accuracy = 91.001%\n",
      "\n",
      "\n",
      "\n",
      "\n",
      "Epoch: 10\n",
      "Epoch: 10, Mini-Batches Completed: 400 Train Accuracy = 92.852%\n",
      "Epoch: 10, Mini-Batches Completed: 400 Val Accuracy = 90.507%\n",
      "Epoch: 10, Mini-Batches Completed: 800 Train Accuracy = 92.605%\n",
      "Epoch: 10, Mini-Batches Completed: 800 Val Accuracy = 89.784%\n",
      "\n",
      "\n",
      "Epoch 10 summary stats:\n",
      "Train Loss: 0.0062, Train Accuracy = 92.605%\n",
      "Val Loss: 0.0091, Val Accuracy = 89.784%\n",
      "\n",
      "\n",
      "\n",
      "\n"
     ]
    }
   ],
   "source": [
    "epochs = 10\n",
    "    \n",
    "\n",
    "for epoch in range(epochs):  \n",
    "    print(f'Epoch: {epoch+1}')\n",
    "\n",
    "    running_loss = 0.0\n",
    "    running_correct = 0.0 \n",
    "    running_total = 0.0\n",
    "    actual_loss = 0.0\n",
    "    # loop over training batches\n",
    "    for i, data in enumerate(train_loader, 0):\n",
    "        inputs, labels, sig = data\n",
    "\n",
    "        inputs = inputs.to(device)\n",
    "        labels = labels.to(device)\n",
    "\n",
    "        # clear gradients\n",
    "        optimizer.zero_grad()\n",
    "\n",
    "        # forward propagation\n",
    "        outputs = model(inputs)\n",
    "\n",
    "        # compute loss\n",
    "        loss =  criterion(outputs, labels)\n",
    "\n",
    "        # backward propagation\n",
    "        loss.backward()\n",
    "        optimizer.step()\n",
    "\n",
    "        # add batch loss to running loss\n",
    "        running_loss += loss.item()\n",
    "        _, predicted = torch.max(outputs.data, dim = 1)\n",
    "\n",
    "        running_total += labels.size(0)\n",
    "\n",
    "        running_correct += (predicted == labels).sum().item()\n",
    "\n",
    "        if i % 400 == 399:    \n",
    "            valcorrect = 0 \n",
    "            valtotal = 0 \n",
    "            running_val_loss = 0\n",
    "\n",
    "            with torch.no_grad():\n",
    "                for data in val_loader:\n",
    "\n",
    "                    x, labels, sig = data\n",
    "\n",
    "                    x = x.to(device)\n",
    "                    labels = labels.to(device)\n",
    "\n",
    "                    outputs = model(x)\n",
    "\n",
    "                    val_loss =  criterion(outputs, labels)\n",
    "\n",
    "                    _, predicted = torch.max(outputs.data, dim = 1)\n",
    "\n",
    "                    valtotal += labels.size(0)\n",
    "\n",
    "                    valcorrect += (predicted == labels).sum().item()\n",
    "                    \n",
    "                    running_val_loss += val_loss.item() \n",
    "\n",
    "                val_accuracy = 100 * valcorrect / valtotal\n",
    "                accuracy = 100 * running_correct / running_total\n",
    "                epoch_num = epoch + 1\n",
    "                \n",
    "                print(f'Epoch: {epoch_num}, Mini-Batches Completed: {(i+1)} Train Accuracy = {accuracy:.3f}%')\n",
    "                print(f'Epoch: {epoch_num}, Mini-Batches Completed: {(i+1)} Val Accuracy = {val_accuracy:.3f}%')\n",
    "                \n",
    "\n",
    "    actual_loss = running_loss / running_total\n",
    "    actual_val_loss = running_val_loss / valtotal\n",
    "    epoch_log.append(epoch_num)\n",
    "    loss_log.append(actual_loss)\n",
    "    val_loss_log.append(actual_val_loss)\n",
    "    accuracy_log.append(accuracy)\n",
    "    val_accuracy_log.append(val_accuracy)\n",
    "    print('\\n')\n",
    "    print(f\"Epoch {epoch_num} summary stats:\")\n",
    "    print(f'Train Loss: {actual_loss:.4f}, Train Accuracy = {accuracy:.3f}%')\n",
    "    print(f'Val Loss: {actual_val_loss:.4f}, Val Accuracy = {val_accuracy:.3f}%')\n",
    "    print('\\n')\n",
    "    print('\\n')"
   ]
  },
  {
   "cell_type": "code",
   "execution_count": 45,
   "id": "48ad7941-9942-4988-820a-465c668cb4fb",
   "metadata": {},
   "outputs": [],
   "source": [
    "#optimizer = torch.optim.Adam(model.parameters(), lr=0.0001)"
   ]
  },
  {
   "cell_type": "code",
   "execution_count": 46,
   "id": "aacce466-f987-4a0f-9d50-ede3fe9a395f",
   "metadata": {},
   "outputs": [],
   "source": [
    "#torch.save(model.state_dict(), 'SBTveto_vacuum_multiclass_NN_SBT_E_signal_xyz.pth')"
   ]
  },
  {
   "cell_type": "code",
   "execution_count": 47,
   "id": "bb1d4ce4-6fc9-4eb3-b0ff-7c4ab8867ec8",
   "metadata": {},
   "outputs": [],
   "source": [
    "#!ls data"
   ]
  },
  {
   "cell_type": "code",
   "execution_count": 48,
   "id": "3f068d6d-0c7d-4b58-aa56-d14c092ac35e",
   "metadata": {},
   "outputs": [],
   "source": [
    "#model.load_state_dict(torch.load(\"data/SBTveto_vacuum_multiclass_NN_SBT_E_signal_xyz.pth\", weights_only=True))\n",
    "#model.eval()"
   ]
  },
  {
   "cell_type": "code",
   "execution_count": 94,
   "id": "343cd17b-1bbe-447a-9bb0-4888038ebb40",
   "metadata": {},
   "outputs": [],
   "source": [
    "ypreds=[]\n",
    "ys =[]\n",
    "sig_vars = []\n",
    "preds = []"
   ]
  },
  {
   "cell_type": "code",
   "execution_count": 96,
   "id": "b21f25dd-b1df-439c-ae6f-9ebd9fae254d",
   "metadata": {},
   "outputs": [],
   "source": [
    "for data in val_loader:\n",
    "\n",
    "    # apply model to validation batch\n",
    "    x, labels, sig = data\n",
    "\n",
    "    x = x.to(device)\n",
    "    labels = labels.to(device)\n",
    "\n",
    "    outputs = model(x)\n",
    "\n",
    "    val_loss =  criterion(outputs, labels)\n",
    "\n",
    "    _, predicted = torch.max(outputs.data, dim = 1)\n",
    "    ys.append(labels.cpu().detach().numpy())\n",
    "    ypreds.append(predicted.cpu().detach().numpy())"
   ]
  },
  {
   "cell_type": "code",
   "execution_count": 97,
   "id": "71d4ef28-b5c2-4bbb-9c81-64f68adcf6a1",
   "metadata": {},
   "outputs": [],
   "source": [
    "ypred = np.concatenate(ypreds)\n",
    "true = np.concatenate(ys)"
   ]
  },
  {
   "cell_type": "code",
   "execution_count": 98,
   "id": "267f1aaa-328e-467b-bb51-49fa6e7b2866",
   "metadata": {},
   "outputs": [
    {
     "data": {
      "text/plain": [
       "np.float64(0.907139577594123)"
      ]
     },
     "execution_count": 98,
     "metadata": {},
     "output_type": "execute_result"
    }
   ],
   "source": [
    "np.sum(ypred==true)/len(ypred)"
   ]
  },
  {
   "cell_type": "code",
   "execution_count": 99,
   "id": "a64ff9af-a576-477a-a5ad-5495482a1c28",
   "metadata": {},
   "outputs": [],
   "source": [
    "from sklearn import metrics\n",
    "import numpy as np\n",
    "import matplotlib.pyplot as plt"
   ]
  },
  {
   "cell_type": "code",
   "execution_count": 100,
   "id": "11fe65ed-a67b-4fd6-a65f-2c4d37f4f31f",
   "metadata": {},
   "outputs": [],
   "source": [
    "from sklearn.metrics import confusion_matrix\n",
    "\n",
    "cm = confusion_matrix(true, ypred)"
   ]
  },
  {
   "cell_type": "code",
   "execution_count": 102,
   "id": "bf114221-9094-4f73-be78-fc8495116fb4",
   "metadata": {},
   "outputs": [],
   "source": [
    "cmnew =cm/np.expand_dims(np.sum(cm,1),1)"
   ]
  },
  {
   "cell_type": "code",
   "execution_count": 103,
   "id": "b10fa08d-439f-495d-a3a0-57cb78555f4b",
   "metadata": {},
   "outputs": [],
   "source": [
    "def plot_errorband(x, y, y_err, label, color):\n",
    "    plt.plot(x, y, color=color, ls='solid', label=label)\n",
    "    plt.fill_between(x, y_err[0],y_err[1], color=color, alpha=0.3, lw=0)\n",
    "   \n",
    "    \n",
    "def init_thesis_plot_style():\n",
    "    my_rc_params = {\n",
    "        \"xtick.direction\": \"in\",\n",
    "        \"xtick.major.size\": 8.0,\n",
    "        \"xtick.minor.size\": 4.0,\n",
    "        \"xtick.minor.visible\": True,\n",
    "        \"xtick.major.width\": 1.2,\n",
    "        \"xtick.minor.width\": 0.9,\n",
    "        \"ytick.direction\": \"in\",\n",
    "        \"ytick.major.size\": 8.0,\n",
    "        \"ytick.minor.size\": 4.0,\n",
    "        \"ytick.minor.visible\": True,\n",
    "        \"ytick.major.width\": 1.2,\n",
    "        \"ytick.minor.width\": 0.9,\n",
    "        \"errorbar.capsize\": 2,\n",
    "        \"axes.linewidth\": 1.2,\n",
    "        # \"font.familiy\": \"serif\",\n",
    "        \"font.size\": 14,\n",
    "        \"axes.grid\": False,\n",
    "        \"ytick.right\": True,\n",
    "        \"xtick.top\": True\n",
    "    }\n",
    "    return(my_rc_params)\n",
    "class Tango(object):\n",
    "    scarlet_red_light = '#ef2929'\n",
    "    scarlet_red = '#cc0000'\n",
    "    scarlet_red_dark = '#a40000'\n",
    "\n",
    "    aluminium_light = '#eeeeec'\n",
    "    aluminium = '#d3d7cf'\n",
    "    aluminium_dark = '#babdb6'\n",
    "\n",
    "    butter_light = '#fce94f'\n",
    "    butter = '#edd400'\n",
    "    butter_dark = '#c4a000'\n",
    "\n",
    "    chameleon_light = '#8ae234'\n",
    "    chameleon = '#73d216'\n",
    "    chameleon_dark = '#4e9a06'\n",
    "\n",
    "    orange_light = '#fcaf3e'\n",
    "    orange = '#f57900'\n",
    "    orange_dark = '#ce5c00'\n",
    "\n",
    "    chocolate_light = '#e9b96e'\n",
    "    chocolate = '#c17d11'\n",
    "    chocolate_dark = '#8f5902'\n",
    "\n",
    "    sky_blue_light = '#729fcf'\n",
    "    sky_blue = '#3465a4'\n",
    "    sky_blue_dark = '#204a87'\n",
    "\n",
    "    plum_light = '#ad7fa8'\n",
    "    plum = '#75507b'\n",
    "    plum_dark = '#5c3566'\n",
    "\n",
    "    slate_light = '#888a85'\n",
    "    slate = '#555753'\n",
    "    slate_dark = '#2e3436'\n",
    "\n",
    "init_thesis_plot_style()\n",
    "plt.rcParams.update(init_thesis_plot_style())"
   ]
  },
  {
   "cell_type": "code",
   "execution_count": 104,
   "id": "5ebf8950-1281-4342-8c20-ed904271f0f4",
   "metadata": {},
   "outputs": [
    {
     "data": {
      "image/png": "[encoded data removed]",
      "text/plain": [
       "<Figure size 640x480 with 2 Axes>"
      ]
     },
     "metadata": {},
     "output_type": "display_data"
    }
   ],
   "source": [
    "import seaborn as sns\n",
    "from matplotlib.colors import LogNorm\n",
    "sns.heatmap(cmnew, \n",
    "            fmt='.2%', norm= LogNorm(),\n",
    "            annot=True,  xticklabels=labels, yticklabels=labels, cmap='Blues')\n",
    "plt.savefig('NN_SHIP_Oct_Confusion.png')"
   ]
  },
  {
   "cell_type": "code",
   "execution_count": 56,
   "id": "0af85510-e947-4abe-8a81-4edb6f08862d",
   "metadata": {},
   "outputs": [
    {
     "data": {
      "text/plain": [
       "(3674, 3)"
      ]
     },
     "execution_count": 56,
     "metadata": {},
     "output_type": "execute_result"
    }
   ],
   "source": [
    "all_sig_var.shape"
   ]
  },
  {
   "cell_type": "code",
   "execution_count": 101,
   "id": "c62f0275-a605-4206-81a4-c21a23b4f378",
   "metadata": {},
   "outputs": [
    {
     "ename": "ValueError",
     "evalue": "Found input variables with inconsistent numbers of samples: [8712, 0]",
     "output_type": "error",
     "traceback": [
      "\u001b[0;31m---------------------------------------------------------------------------\u001b[0m",
      "\u001b[0;31mValueError\u001b[0m                                Traceback (most recent call last)",
      "Cell \u001b[0;32mIn[101], line 4\u001b[0m\n\u001b[1;32m      1\u001b[0m labels\u001b[38;5;241m=\u001b[39m[\u001b[38;5;124m'\u001b[39m\u001b[38;5;124msignal\u001b[39m\u001b[38;5;124m'\u001b[39m,\u001b[38;5;124mr\u001b[39m\u001b[38;5;124m'\u001b[39m\u001b[38;5;124m$\u001b[39m\u001b[38;5;124m\\\u001b[39m\u001b[38;5;124mnu$-DIS\u001b[39m\u001b[38;5;124m'\u001b[39m, \u001b[38;5;124mr\u001b[39m\u001b[38;5;124m'\u001b[39m\u001b[38;5;124m$\u001b[39m\u001b[38;5;124m\\\u001b[39m\u001b[38;5;124mmu$-DIS\u001b[39m\u001b[38;5;124m'\u001b[39m]\n\u001b[1;32m      2\u001b[0m \u001b[38;5;28;01mfrom\u001b[39;00m \u001b[38;5;21;01msklearn\u001b[39;00m\u001b[38;5;21;01m.\u001b[39;00m\u001b[38;5;21;01mmetrics\u001b[39;00m \u001b[38;5;28;01mimport\u001b[39;00m confusion_matrix\n\u001b[0;32m----> 4\u001b[0m cm \u001b[38;5;241m=\u001b[39m \u001b[43mconfusion_matrix\u001b[49m\u001b[43m(\u001b[49m\u001b[43mtrue\u001b[49m\u001b[43m,\u001b[49m\u001b[43m \u001b[49m\u001b[43mpreds\u001b[49m\u001b[43m)\u001b[49m\n",
      "File \u001b[0;32m~/anaconda3/envs/torch24/lib/python3.12/site-packages/sklearn/utils/_param_validation.py:213\u001b[0m, in \u001b[0;36mvalidate_params.<locals>.decorator.<locals>.wrapper\u001b[0;34m(*args, **kwargs)\u001b[0m\n\u001b[1;32m    207\u001b[0m \u001b[38;5;28;01mtry\u001b[39;00m:\n\u001b[1;32m    208\u001b[0m     \u001b[38;5;28;01mwith\u001b[39;00m config_context(\n\u001b[1;32m    209\u001b[0m         skip_parameter_validation\u001b[38;5;241m=\u001b[39m(\n\u001b[1;32m    210\u001b[0m             prefer_skip_nested_validation \u001b[38;5;129;01mor\u001b[39;00m global_skip_validation\n\u001b[1;32m    211\u001b[0m         )\n\u001b[1;32m    212\u001b[0m     ):\n\u001b[0;32m--> 213\u001b[0m         \u001b[38;5;28;01mreturn\u001b[39;00m \u001b[43mfunc\u001b[49m\u001b[43m(\u001b[49m\u001b[38;5;241;43m*\u001b[39;49m\u001b[43margs\u001b[49m\u001b[43m,\u001b[49m\u001b[43m \u001b[49m\u001b[38;5;241;43m*\u001b[39;49m\u001b[38;5;241;43m*\u001b[39;49m\u001b[43mkwargs\u001b[49m\u001b[43m)\u001b[49m\n\u001b[1;32m    214\u001b[0m \u001b[38;5;28;01mexcept\u001b[39;00m InvalidParameterError \u001b[38;5;28;01mas\u001b[39;00m e:\n\u001b[1;32m    215\u001b[0m     \u001b[38;5;66;03m# When the function is just a wrapper around an estimator, we allow\u001b[39;00m\n\u001b[1;32m    216\u001b[0m     \u001b[38;5;66;03m# the function to delegate validation to the estimator, but we replace\u001b[39;00m\n\u001b[1;32m    217\u001b[0m     \u001b[38;5;66;03m# the name of the estimator by the name of the function in the error\u001b[39;00m\n\u001b[1;32m    218\u001b[0m     \u001b[38;5;66;03m# message to avoid confusion.\u001b[39;00m\n\u001b[1;32m    219\u001b[0m     msg \u001b[38;5;241m=\u001b[39m re\u001b[38;5;241m.\u001b[39msub(\n\u001b[1;32m    220\u001b[0m         \u001b[38;5;124mr\u001b[39m\u001b[38;5;124m\"\u001b[39m\u001b[38;5;124mparameter of \u001b[39m\u001b[38;5;124m\\\u001b[39m\u001b[38;5;124mw+ must be\u001b[39m\u001b[38;5;124m\"\u001b[39m,\n\u001b[1;32m    221\u001b[0m         \u001b[38;5;124mf\u001b[39m\u001b[38;5;124m\"\u001b[39m\u001b[38;5;124mparameter of \u001b[39m\u001b[38;5;132;01m{\u001b[39;00mfunc\u001b[38;5;241m.\u001b[39m\u001b[38;5;18m__qualname__\u001b[39m\u001b[38;5;132;01m}\u001b[39;00m\u001b[38;5;124m must be\u001b[39m\u001b[38;5;124m\"\u001b[39m,\n\u001b[1;32m    222\u001b[0m         \u001b[38;5;28mstr\u001b[39m(e),\n\u001b[1;32m    223\u001b[0m     )\n",
      "File \u001b[0;32m~/anaconda3/envs/torch24/lib/python3.12/site-packages/sklearn/metrics/_classification.py:342\u001b[0m, in \u001b[0;36mconfusion_matrix\u001b[0;34m(y_true, y_pred, labels, sample_weight, normalize)\u001b[0m\n\u001b[1;32m    247\u001b[0m \u001b[38;5;129m@validate_params\u001b[39m(\n\u001b[1;32m    248\u001b[0m     {\n\u001b[1;32m    249\u001b[0m         \u001b[38;5;124m\"\u001b[39m\u001b[38;5;124my_true\u001b[39m\u001b[38;5;124m\"\u001b[39m: [\u001b[38;5;124m\"\u001b[39m\u001b[38;5;124marray-like\u001b[39m\u001b[38;5;124m\"\u001b[39m],\n\u001b[0;32m   (...)\u001b[0m\n\u001b[1;32m    258\u001b[0m     y_true, y_pred, \u001b[38;5;241m*\u001b[39m, labels\u001b[38;5;241m=\u001b[39m\u001b[38;5;28;01mNone\u001b[39;00m, sample_weight\u001b[38;5;241m=\u001b[39m\u001b[38;5;28;01mNone\u001b[39;00m, normalize\u001b[38;5;241m=\u001b[39m\u001b[38;5;28;01mNone\u001b[39;00m\n\u001b[1;32m    259\u001b[0m ):\n\u001b[1;32m    260\u001b[0m \u001b[38;5;250m    \u001b[39m\u001b[38;5;124;03m\"\"\"Compute confusion matrix to evaluate the accuracy of a classification.\u001b[39;00m\n\u001b[1;32m    261\u001b[0m \n\u001b[1;32m    262\u001b[0m \u001b[38;5;124;03m    By definition a confusion matrix :math:`C` is such that :math:`C_{i, j}`\u001b[39;00m\n\u001b[0;32m   (...)\u001b[0m\n\u001b[1;32m    340\u001b[0m \u001b[38;5;124;03m    (np.int64(0), np.int64(2), np.int64(1), np.int64(1))\u001b[39;00m\n\u001b[1;32m    341\u001b[0m \u001b[38;5;124;03m    \"\"\"\u001b[39;00m\n\u001b[0;32m--> 342\u001b[0m     y_type, y_true, y_pred \u001b[38;5;241m=\u001b[39m \u001b[43m_check_targets\u001b[49m\u001b[43m(\u001b[49m\u001b[43my_true\u001b[49m\u001b[43m,\u001b[49m\u001b[43m \u001b[49m\u001b[43my_pred\u001b[49m\u001b[43m)\u001b[49m\n\u001b[1;32m    343\u001b[0m     \u001b[38;5;28;01mif\u001b[39;00m y_type \u001b[38;5;129;01mnot\u001b[39;00m \u001b[38;5;129;01min\u001b[39;00m (\u001b[38;5;124m\"\u001b[39m\u001b[38;5;124mbinary\u001b[39m\u001b[38;5;124m\"\u001b[39m, \u001b[38;5;124m\"\u001b[39m\u001b[38;5;124mmulticlass\u001b[39m\u001b[38;5;124m\"\u001b[39m):\n\u001b[1;32m    344\u001b[0m         \u001b[38;5;28;01mraise\u001b[39;00m \u001b[38;5;167;01mValueError\u001b[39;00m(\u001b[38;5;124m\"\u001b[39m\u001b[38;5;132;01m%s\u001b[39;00m\u001b[38;5;124m is not supported\u001b[39m\u001b[38;5;124m\"\u001b[39m \u001b[38;5;241m%\u001b[39m y_type)\n",
      "File \u001b[0;32m~/anaconda3/envs/torch24/lib/python3.12/site-packages/sklearn/metrics/_classification.py:103\u001b[0m, in \u001b[0;36m_check_targets\u001b[0;34m(y_true, y_pred)\u001b[0m\n\u001b[1;32m     76\u001b[0m \u001b[38;5;250m\u001b[39m\u001b[38;5;124;03m\"\"\"Check that y_true and y_pred belong to the same classification task.\u001b[39;00m\n\u001b[1;32m     77\u001b[0m \n\u001b[1;32m     78\u001b[0m \u001b[38;5;124;03mThis converts multiclass or binary types to a common shape, and raises a\u001b[39;00m\n\u001b[0;32m   (...)\u001b[0m\n\u001b[1;32m    100\u001b[0m \u001b[38;5;124;03my_pred : array or indicator matrix\u001b[39;00m\n\u001b[1;32m    101\u001b[0m \u001b[38;5;124;03m\"\"\"\u001b[39;00m\n\u001b[1;32m    102\u001b[0m xp, _ \u001b[38;5;241m=\u001b[39m get_namespace(y_true, y_pred)\n\u001b[0;32m--> 103\u001b[0m \u001b[43mcheck_consistent_length\u001b[49m\u001b[43m(\u001b[49m\u001b[43my_true\u001b[49m\u001b[43m,\u001b[49m\u001b[43m \u001b[49m\u001b[43my_pred\u001b[49m\u001b[43m)\u001b[49m\n\u001b[1;32m    104\u001b[0m type_true \u001b[38;5;241m=\u001b[39m type_of_target(y_true, input_name\u001b[38;5;241m=\u001b[39m\u001b[38;5;124m\"\u001b[39m\u001b[38;5;124my_true\u001b[39m\u001b[38;5;124m\"\u001b[39m)\n\u001b[1;32m    105\u001b[0m type_pred \u001b[38;5;241m=\u001b[39m type_of_target(y_pred, input_name\u001b[38;5;241m=\u001b[39m\u001b[38;5;124m\"\u001b[39m\u001b[38;5;124my_pred\u001b[39m\u001b[38;5;124m\"\u001b[39m)\n",
      "File \u001b[0;32m~/anaconda3/envs/torch24/lib/python3.12/site-packages/sklearn/utils/validation.py:457\u001b[0m, in \u001b[0;36mcheck_consistent_length\u001b[0;34m(*arrays)\u001b[0m\n\u001b[1;32m    455\u001b[0m uniques \u001b[38;5;241m=\u001b[39m np\u001b[38;5;241m.\u001b[39munique(lengths)\n\u001b[1;32m    456\u001b[0m \u001b[38;5;28;01mif\u001b[39;00m \u001b[38;5;28mlen\u001b[39m(uniques) \u001b[38;5;241m>\u001b[39m \u001b[38;5;241m1\u001b[39m:\n\u001b[0;32m--> 457\u001b[0m     \u001b[38;5;28;01mraise\u001b[39;00m \u001b[38;5;167;01mValueError\u001b[39;00m(\n\u001b[1;32m    458\u001b[0m         \u001b[38;5;124m\"\u001b[39m\u001b[38;5;124mFound input variables with inconsistent numbers of samples: \u001b[39m\u001b[38;5;132;01m%r\u001b[39;00m\u001b[38;5;124m\"\u001b[39m\n\u001b[1;32m    459\u001b[0m         \u001b[38;5;241m%\u001b[39m [\u001b[38;5;28mint\u001b[39m(l) \u001b[38;5;28;01mfor\u001b[39;00m l \u001b[38;5;129;01min\u001b[39;00m lengths]\n\u001b[1;32m    460\u001b[0m     )\n",
      "\u001b[0;31mValueError\u001b[0m: Found input variables with inconsistent numbers of samples: [8712, 0]"
     ]
    }
   ],
   "source": [
    "labels=['signal',r'$\\nu$-DIS', r'$\\mu$-DIS']\n",
    "from sklearn.metrics import confusion_matrix\n",
    "\n",
    "cm = confusion_matrix(true, preds)"
   ]
  },
  {
   "cell_type": "code",
   "execution_count": 78,
   "id": "5c8c83de-be1d-4f11-9fb3-fe2a7f395f5e",
   "metadata": {},
   "outputs": [
    {
     "data": {
      "image/png": "[encoded data removed]",
      "text/plain": [
       "<Figure size 640x480 with 1 Axes>"
      ]
     },
     "metadata": {},
     "output_type": "display_data"
    }
   ],
   "source": [
    "fpr, tpr, thresholds = roc_curve(true, all_preds)\n",
    "roc_auc = auc(fpr, tpr)\n",
    "\n",
    "# Plot the ROC curve\n",
    "plt.figure()\n",
    "plt.plot(fpr, tpr, color='blue', lw=2, label=f'NN only SBT ROC curve (AUC = {roc_auc:.2f})')\n",
    "plt.plot([0, 1], [0, 1], color='gray', linestyle='--', lw=2, label='Random guess')\n",
    "plt.xlim([0.0, 1.0])\n",
    "plt.ylim([0.0, 1.05])\n",
    "plt.xlabel('False Positive Rate')\n",
    "plt.ylabel('True Positive Rate')\n",
    "plt.title('Receiver Operating Characteristic (ROC)')\n",
    "plt.legend(loc='lower right')\n",
    "plt.grid(alpha=0.3)\n",
    "#plt.show()\n",
    "plt.savefig(\"NN_only_sbt_ROC.png\")"
   ]
  },
  {
   "cell_type": "code",
   "execution_count": 79,
   "id": "77ab7ee2-2f54-408a-8907-1536e125853f",
   "metadata": {},
   "outputs": [],
   "source": [
    "corr = np.corrcoef(x=all_preds.flatten(),y=all_sig_var[:,0].flatten())"
   ]
  },
  {
   "cell_type": "code",
   "execution_count": 80,
   "id": "6f1eff66-6810-48e2-8157-212eb240bf74",
   "metadata": {},
   "outputs": [
    {
     "name": "stdout",
     "output_type": "stream",
     "text": [
      "[[1.        0.1109747]\n",
      " [0.1109747 1.       ]]\n"
     ]
    }
   ],
   "source": [
    "print(corr)"
   ]
  },
  {
   "cell_type": "code",
   "execution_count": 81,
   "id": "26eec32e-2478-4033-8ebf-12d2f5bd4a2b",
   "metadata": {},
   "outputs": [
    {
     "data": {
      "image/png": "[encoded data removed]",
      "text/plain": [
       "<Figure size 640x480 with 1 Axes>"
      ]
     },
     "metadata": {},
     "output_type": "display_data"
    }
   ],
   "source": [
    "plt.scatter(all_preds,all_sig_var[:,0],s=0.7)\n",
    "plt.text(0.2,6, r'$\\rho=${0:.3f}'.format(corr[0][1]))\n",
    "plt.ylabel(\"Mass\")\n",
    "\n",
    "plt.xlabel(\"NN output\")\n",
    "plt.savefig(\"Mass_vs_SBT_NN.png\")"
   ]
  },
  {
   "cell_type": "code",
   "execution_count": 82,
   "id": "921672da-0218-4cc2-9699-deae6268efa7",
   "metadata": {},
   "outputs": [
    {
     "data": {
      "text/plain": [
       "(3674, 1)"
      ]
     },
     "execution_count": 82,
     "metadata": {},
     "output_type": "execute_result"
    }
   ],
   "source": [
    "all_preds.shape"
   ]
  },
  {
   "cell_type": "code",
   "execution_count": 83,
   "id": "c0893df6-f5b6-4ef2-b6a5-a91aea5e8721",
   "metadata": {},
   "outputs": [],
   "source": [
    "corr = np.corrcoef(x=all_preds.flatten(),y=all_sig_var[:,1].flatten())"
   ]
  },
  {
   "cell_type": "code",
   "execution_count": 84,
   "id": "d79ac9bc-cf5c-4911-ac63-f5f9203e78f8",
   "metadata": {},
   "outputs": [
    {
     "data": {
      "image/png": "[encoded data removed]",
      "text/plain": [
       "<Figure size 640x480 with 1 Axes>"
      ]
     },
     "metadata": {},
     "output_type": "display_data"
    }
   ],
   "source": [
    "plt.scatter(all_preds,all_sig_var[:,1],s=0.7)\n",
    "plt.text(0.2,300, r'$\\rho=${0:.3f}'.format(corr[0][1]))\n",
    "plt.ylabel(\"DOCA\")\n",
    "\n",
    "plt.xlabel(\"NN output\")\n",
    "plt.savefig(\"DOCA_vs_SBT_NN.png\")"
   ]
  },
  {
   "cell_type": "code",
   "execution_count": 85,
   "id": "246b15c3-1bf6-47b8-925a-1aeffb79ac19",
   "metadata": {},
   "outputs": [],
   "source": [
    "corr = np.corrcoef(x=all_preds.flatten(),y=all_sig_var[:,2].flatten())"
   ]
  },
  {
   "cell_type": "code",
   "execution_count": 88,
   "id": "6980b1a0-1d7e-4a4e-b4bc-467f2c3afdf8",
   "metadata": {},
   "outputs": [
    {
     "data": {
      "image/png": "[encoded data removed]",
      "text/plain": [
       "<Figure size 640x480 with 1 Axes>"
      ]
     },
     "metadata": {},
     "output_type": "display_data"
    }
   ],
   "source": [
    "plt.scatter(all_preds,all_sig_var[:,2],s=0.7)\n",
    "plt.text(0.2,3000, r'$\\rho=${0:.3f}'.format(corr[0][1]))\n",
    "plt.ylabel(\"Impact Parameter\")\n",
    "\n",
    "plt.xlabel(\"NN output\")\n",
    "plt.savefig(\"IP_vs_SBT_NN.png\")"
   ]
  },
  {
   "cell_type": "code",
   "execution_count": 66,
   "id": "ac171fcf-9336-40ba-9e9d-52b085eee12a",
   "metadata": {},
   "outputs": [
    {
     "data": {
      "text/plain": [
       "array([[1.       , 0.3343106],\n",
       "       [0.3343106, 1.       ]])"
      ]
     },
     "execution_count": 66,
     "metadata": {},
     "output_type": "execute_result"
    }
   ],
   "source": [
    "np.corrcoef(x=all_preds.flatten(),y=all_sig_var[:,2].flatten())"
   ]
  },
  {
   "cell_type": "code",
   "execution_count": 67,
   "id": "f989fbfa-2b4d-435d-8aa3-ac277fc65195",
   "metadata": {},
   "outputs": [
    {
     "data": {
      "text/plain": [
       "np.float64(0.9205225911812738)"
      ]
     },
     "execution_count": 67,
     "metadata": {},
     "output_type": "execute_result"
    }
   ],
   "source": [
    "np.sum(ypred==true)/len(ypred)"
   ]
  },
  {
   "cell_type": "code",
   "execution_count": 68,
   "id": "9d21e2bb-7a3a-4a4e-a5a3-fcf1cb9a91fa",
   "metadata": {},
   "outputs": [],
   "source": [
    "from sklearn import metrics\n",
    "import numpy as np\n",
    "import matplotlib.pyplot as plt"
   ]
  },
  {
   "cell_type": "code",
   "execution_count": 69,
   "id": "fee35a34-f8d5-4cb4-8c6f-06e681c854bd",
   "metadata": {},
   "outputs": [],
   "source": [
    "from sklearn.metrics import confusion_matrix\n",
    "\n",
    "cm = confusion_matrix(true, ypred)"
   ]
  },
  {
   "cell_type": "code",
   "execution_count": 70,
   "id": "f3f31ad4-5318-4e82-806d-4becedb591ae",
   "metadata": {},
   "outputs": [
    {
     "data": {
      "text/plain": [
       "array([[1641,  197],\n",
       "       [  95, 1741]])"
      ]
     },
     "execution_count": 70,
     "metadata": {},
     "output_type": "execute_result"
    }
   ],
   "source": [
    "cm"
   ]
  },
  {
   "cell_type": "code",
   "execution_count": 71,
   "id": "9a40072c-cd34-48a2-9f77-7978d88b2a18",
   "metadata": {},
   "outputs": [
    {
     "data": {
      "text/plain": [
       "array([[1641,  197],\n",
       "       [  95, 1741]])"
      ]
     },
     "execution_count": 71,
     "metadata": {},
     "output_type": "execute_result"
    }
   ],
   "source": [
    "cm"
   ]
  },
  {
   "cell_type": "code",
   "execution_count": null,
   "id": "7cbcf22c-9817-4d28-bf6f-818df7ed4724",
   "metadata": {},
   "outputs": [],
   "source": []
  },
  {
   "cell_type": "code",
   "execution_count": 72,
   "id": "8642a8cb-b61c-48c9-becf-805c23c056f5",
   "metadata": {},
   "outputs": [],
   "source": [
    "preds=ypred"
   ]
  },
  {
   "cell_type": "code",
   "execution_count": 73,
   "id": "f5669376-d867-403b-978d-e82a7577f13c",
   "metadata": {},
   "outputs": [
    {
     "data": {
      "text/plain": [
       "np.float64(0.9205225911812738)"
      ]
     },
     "execution_count": 73,
     "metadata": {},
     "output_type": "execute_result"
    }
   ],
   "source": [
    "np.sum(preds == true)/true.shape[0]"
   ]
  },
  {
   "cell_type": "code",
   "execution_count": 74,
   "id": "22edb0b7-3bf1-46d2-8ecb-a462343343c4",
   "metadata": {},
   "outputs": [],
   "source": [
    "labels=['signal',r'$\\nu$-DIS']#, r'$\\mu$-DIS']\n",
    "from sklearn.metrics import confusion_matrix\n",
    "\n",
    "cm = confusion_matrix(true, preds)"
   ]
  },
  {
   "cell_type": "code",
   "execution_count": 75,
   "id": "0294d48b-5c00-4388-b942-7e0d11e3f715",
   "metadata": {},
   "outputs": [],
   "source": [
    "cmnew =cm/np.expand_dims(np.sum(cm,1),1)"
   ]
  },
  {
   "cell_type": "code",
   "execution_count": 76,
   "id": "5a5ef3d0-3869-4a7f-9d0c-98e7cf566024",
   "metadata": {},
   "outputs": [],
   "source": [
    "def plot_errorband(x, y, y_err, label, color):\n",
    "    plt.plot(x, y, color=color, ls='solid', label=label)\n",
    "    plt.fill_between(x, y_err[0],y_err[1], color=color, alpha=0.3, lw=0)\n",
    "   \n",
    "    \n",
    "def init_thesis_plot_style():\n",
    "    my_rc_params = {\n",
    "        \"xtick.direction\": \"in\",\n",
    "        \"xtick.major.size\": 8.0,\n",
    "        \"xtick.minor.size\": 4.0,\n",
    "        \"xtick.minor.visible\": True,\n",
    "        \"xtick.major.width\": 1.2,\n",
    "        \"xtick.minor.width\": 0.9,\n",
    "        \"ytick.direction\": \"in\",\n",
    "        \"ytick.major.size\": 8.0,\n",
    "        \"ytick.minor.size\": 4.0,\n",
    "        \"ytick.minor.visible\": True,\n",
    "        \"ytick.major.width\": 1.2,\n",
    "        \"ytick.minor.width\": 0.9,\n",
    "        \"errorbar.capsize\": 2,\n",
    "        \"axes.linewidth\": 1.2,\n",
    "        # \"font.familiy\": \"serif\",\n",
    "        \"font.size\": 14,\n",
    "        \"axes.grid\": False,\n",
    "        \"ytick.right\": True,\n",
    "        \"xtick.top\": True\n",
    "    }\n",
    "    return(my_rc_params)\n",
    "class Tango(object):\n",
    "    scarlet_red_light = '#ef2929'\n",
    "    scarlet_red = '#cc0000'\n",
    "    scarlet_red_dark = '#a40000'\n",
    "\n",
    "    aluminium_light = '#eeeeec'\n",
    "    aluminium = '#d3d7cf'\n",
    "    aluminium_dark = '#babdb6'\n",
    "\n",
    "    butter_light = '#fce94f'\n",
    "    butter = '#edd400'\n",
    "    butter_dark = '#c4a000'\n",
    "\n",
    "    chameleon_light = '#8ae234'\n",
    "    chameleon = '#73d216'\n",
    "    chameleon_dark = '#4e9a06'\n",
    "\n",
    "    orange_light = '#fcaf3e'\n",
    "    orange = '#f57900'\n",
    "    orange_dark = '#ce5c00'\n",
    "\n",
    "    chocolate_light = '#e9b96e'\n",
    "    chocolate = '#c17d11'\n",
    "    chocolate_dark = '#8f5902'\n",
    "\n",
    "    sky_blue_light = '#729fcf'\n",
    "    sky_blue = '#3465a4'\n",
    "    sky_blue_dark = '#204a87'\n",
    "\n",
    "    plum_light = '#ad7fa8'\n",
    "    plum = '#75507b'\n",
    "    plum_dark = '#5c3566'\n",
    "\n",
    "    slate_light = '#888a85'\n",
    "    slate = '#555753'\n",
    "    slate_dark = '#2e3436'\n",
    "\n",
    "init_thesis_plot_style()\n",
    "plt.rcParams.update(init_thesis_plot_style())"
   ]
  },
  {
   "cell_type": "code",
   "execution_count": null,
   "id": "16737203-5580-4b9e-adbf-1a87908ec19c",
   "metadata": {},
   "outputs": [],
   "source": []
  },
  {
   "cell_type": "code",
   "execution_count": 87,
   "id": "87ba83b8-22b0-41b6-980c-2301a66b34ad",
   "metadata": {},
   "outputs": [
    {
     "data": {
      "image/png": "[encoded data removed]",
      "text/plain": [
       "<Figure size 640x480 with 2 Axes>"
      ]
     },
     "metadata": {},
     "output_type": "display_data"
    }
   ],
   "source": [
    "import seaborn as sns\n",
    "from matplotlib.colors import LogNorm\n",
    "sns.heatmap(cmnew, \n",
    "            fmt='.2%', norm= LogNorm(),\n",
    "            annot=True,  xticklabels=labels, yticklabels=labels, cmap='Blues')\n",
    "plt.savefig('NN_SHIP_Dec_Confusion_binary.png')"
   ]
  },
  {
   "cell_type": "code",
   "execution_count": null,
   "id": "b7e02efa-07fc-465c-b0b6-4082aa8d8f13",
   "metadata": {},
   "outputs": [],
   "source": []
  },
  {
   "cell_type": "code",
   "execution_count": 349,
   "id": "8728bcef-8401-4fa1-98c0-7f752fb42c10",
   "metadata": {},
   "outputs": [
    {
     "data": {
      "text/plain": [
       "<matplotlib.legend.Legend at 0x7ab9cdd279e0>"
      ]
     },
     "execution_count": 349,
     "metadata": {},
     "output_type": "execute_result"
    },
    {
     "data": {
      "image/png": "[encoded data removed]",
      "text/plain": [
       "<Figure size 640x480 with 1 Axes>"
      ]
     },
     "metadata": {},
     "output_type": "display_data"
    }
   ],
   "source": [
    "import matplotlib.pyplot as plt\n",
    "epochs = np.arange(0 ,len(loss_log)+1)\n",
    "\n",
    "plt.plot(epochs[1:],np.array(loss_log), label=\"Train\")\n",
    "plt.plot(epochs[1:],np.array(val_loss_log), label=\"Val\")\n",
    "plt.xlabel('Epochs')\n",
    "plt.ylabel('Loss')\n",
    "plt.legend()"
   ]
  },
  {
   "cell_type": "code",
   "execution_count": 131,
   "id": "b032d923-c482-4448-939b-e71fef631f71",
   "metadata": {},
   "outputs": [
    {
     "data": {
      "text/plain": [
       "array([ 0,  1,  2,  3,  4,  5,  6,  7,  8,  9, 10])"
      ]
     },
     "execution_count": 131,
     "metadata": {},
     "output_type": "execute_result"
    }
   ],
   "source": [
    "epochs"
   ]
  },
  {
   "cell_type": "code",
   "execution_count": null,
   "id": "3b96f81a-335d-4853-bc9c-7dbabdec37a2",
   "metadata": {},
   "outputs": [],
   "source": []
  }
 ],
 "metadata": {
  "kernelspec": {
   "display_name": "Python 3 (ipykernel)",
   "language": "python",
   "name": "python3"
  },
  "language_info": {
   "codemirror_mode": {
    "name": "ipython",
    "version": 3
   },
   "file_extension": ".py",
   "mimetype": "text/x-python",
   "name": "python",
   "nbconvert_exporter": "python",
   "pygments_lexer": "ipython3",
   "version": "3.12.5"
  }
 },
 "nbformat": 4,
 "nbformat_minor": 5
}
