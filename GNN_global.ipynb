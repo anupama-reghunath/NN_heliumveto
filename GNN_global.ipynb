{
 "cells": [
  {
   "cell_type": "code",
   "execution_count": 1,
   "id": "6fed520f-31ed-4603-8f9a-758d0e7e6b21",
   "metadata": {},
   "outputs": [],
   "source": [
    "import glob\n",
    "import uproot\n",
    "import numpy as np\n",
    "#import h5py\n",
    "import torch\n",
    "from torch_geometric.data import Data\n",
    "from torch_geometric.loader import DataLoader"
   ]
  },
  {
   "cell_type": "code",
   "execution_count": 2,
   "id": "6d1fbce9-9eb2-459f-b28e-c638564b7b87",
   "metadata": {},
   "outputs": [],
   "source": [
    "XYZ =np.load(\"data/SBT_XYZ.npy\")"
   ]
  },
  {
   "cell_type": "code",
   "execution_count": 3,
   "id": "4dcf78b2-6c99-4ae8-8aac-7ecc21b93d1b",
   "metadata": {},
   "outputs": [],
   "source": [
    "neu_files = glob.glob(\"../SBT/ml_dataset/*neuDIS*.root\")\n",
    "mu_files = glob.glob(\"../SBT/ml_dataset/*muDIS*.root\")\n",
    "embg_files = glob.glob(\"../SBT/ml_dataset/*EMBG*.root\")\n",
    "embg_files = glob.glob(\"../SBT/mynewsignal/*datafile*.root\")"
   ]
  },
  {
   "cell_type": "code",
   "execution_count": 4,
   "id": "c7a8d7b0-e742-485d-a96b-0d6ec480f06a",
   "metadata": {},
   "outputs": [
    {
     "data": {
      "text/plain": [
       "129"
      ]
     },
     "execution_count": 4,
     "metadata": {},
     "output_type": "execute_result"
    }
   ],
   "source": [
    "len(embg_files)"
   ]
  },
  {
   "cell_type": "code",
   "execution_count": 5,
   "id": "e1bc9b0f-c755-499a-9c34-5da277a27619",
   "metadata": {},
   "outputs": [],
   "source": [
    "file = uproot.open(embg_files[0])\n",
    "x = file['tree;1']['inputmatrix'].array()\n",
    "x = np.array(x)\n",
    "#N += x.shape[0]"
   ]
  },
  {
   "cell_type": "code",
   "execution_count": 6,
   "id": "4f8e54c6-5cb1-4595-b511-43eb62b01374",
   "metadata": {},
   "outputs": [
    {
     "name": "stdout",
     "output_type": "stream",
     "text": [
      "16115\n",
      "16462\n",
      "18000\n"
     ]
    }
   ],
   "source": [
    "to_concat = []\n",
    "ys_concat = []\n",
    "N=0\n",
    "for i in range(0,180):\n",
    "    file = uproot.open(neu_files[i])\n",
    "    x = file['tree;1']['inputmatrix'].array()\n",
    "    x = np.array(x)\n",
    "    N += x.shape[0]\n",
    "    new = np.vstack([ np.expand_dims(x[:,:2000],0),np.expand_dims(np.repeat(XYZ[:1,:],x.shape[0],0),0),\n",
    "              np.expand_dims(np.repeat(XYZ[1:2,:],x.shape[0],0),0),\n",
    "              np.expand_dims(np.repeat(XYZ[2:,:],x.shape[0],0),0),\n",
    "                    np.expand_dims(np.repeat(x[:,-5:-4],2000,1),0),\n",
    "                    np.expand_dims(np.repeat(x[:,-4:-3],2000,1),0),\n",
    "                    np.expand_dims(np.repeat(x[:,-3:-2],2000,1),0),\n",
    "                    np.expand_dims(np.repeat(x[:,-2:-1],2000,1),0)])\n",
    "    new = np.swapaxes(new,0,1)\n",
    "    new = np.swapaxes(new,1,2)\n",
    "    to_concat.append(new)\n",
    "ys_concat.append(np.ones((N)))\n",
    "print(N)\n",
    "N=0\n",
    "for i in range(0,120):\n",
    "    file = uproot.open(mu_files[i])\n",
    "    x = file['tree;1']['inputmatrix'].array()\n",
    "    x = np.array(x)\n",
    "    N += x.shape[0]\n",
    "    new = np.vstack([ np.expand_dims(x[:,:2000],0),np.expand_dims(np.repeat(XYZ[:1,:],x.shape[0],0),0),\n",
    "              np.expand_dims(np.repeat(XYZ[1:2,:],x.shape[0],0),0),\n",
    "              np.expand_dims(np.repeat(XYZ[2:,:],x.shape[0],0),0),\n",
    "                    np.expand_dims(np.repeat(x[:,-5:-4],2000,1),0),\n",
    "                    np.expand_dims(np.repeat(x[:,-4:-3],2000,1),0),\n",
    "                    np.expand_dims(np.repeat(x[:,-3:-2],2000,1),0),\n",
    "                    np.expand_dims(np.repeat(x[:,-2:-1],2000,1),0)])\n",
    "    new = np.swapaxes(new,0,1)\n",
    "    new = np.swapaxes(new,1,2)\n",
    "    to_concat.append(new)\n",
    "ys_concat.append(2*np.ones((N)))\n",
    "print(N)\n",
    "N=0\n",
    "for i in range(0,9):\n",
    "    file = uproot.open(embg_files[i])\n",
    "    x = file['tree;1']['inputmatrix'].array()\n",
    "    x = np.array(x)\n",
    "    N += x.shape[0]\n",
    "    new = np.vstack([ np.expand_dims(x[:,:2000],0),np.expand_dims(np.repeat(XYZ[:1,:],x.shape[0],0),0),\n",
    "              np.expand_dims(np.repeat(XYZ[1:2,:],x.shape[0],0),0),\n",
    "              np.expand_dims(np.repeat(XYZ[2:,:],x.shape[0],0),0),\n",
    "                    np.expand_dims(np.repeat(x[:,-5:-4],2000,1),0),\n",
    "                    np.expand_dims(np.repeat(x[:,-4:-3],2000,1),0),\n",
    "                    np.expand_dims(np.repeat(x[:,-3:-2],2000,1),0),\n",
    "                    np.expand_dims(np.repeat(x[:,-2:-1],2000,1),0)])\n",
    "    new = np.swapaxes(new,0,1)\n",
    "    new = np.swapaxes(new,1,2)\n",
    "    to_concat.append(new)\n",
    "print(N)\n",
    "ys_concat.append(np.zeros((N)))"
   ]
  },
  {
   "cell_type": "code",
   "execution_count": 7,
   "id": "9f6a3908-7ae8-449e-a84d-2dbedfe0efb4",
   "metadata": {},
   "outputs": [],
   "source": [
    "X=np.concatenate(to_concat)"
   ]
  },
  {
   "cell_type": "code",
   "execution_count": 8,
   "id": "2f87807a-7153-47f8-80b2-1129a73b6531",
   "metadata": {},
   "outputs": [
    {
     "data": {
      "text/plain": [
       "array([0., 0., 0., ..., 0., 0., 0.])"
      ]
     },
     "execution_count": 8,
     "metadata": {},
     "output_type": "execute_result"
    }
   ],
   "source": [
    "X[:,0,-1]"
   ]
  },
  {
   "cell_type": "code",
   "execution_count": 9,
   "id": "60e71f66-22a6-46bb-916f-0378f84aa987",
   "metadata": {},
   "outputs": [],
   "source": [
    "XSBT = X[:,:,:4].copy()"
   ]
  },
  {
   "cell_type": "code",
   "execution_count": 10,
   "id": "07c4a559-eb32-46ed-a685-c2a076f3dc94",
   "metadata": {},
   "outputs": [
    {
     "data": {
      "text/plain": [
       "(50577, 2000, 4)"
      ]
     },
     "execution_count": 10,
     "metadata": {},
     "output_type": "execute_result"
    }
   ],
   "source": [
    "XSBT.shape"
   ]
  },
  {
   "cell_type": "code",
   "execution_count": 11,
   "id": "ff1e7237-e0a1-4b4f-8983-a885b3e0ca51",
   "metadata": {},
   "outputs": [],
   "source": [
    "XUBT = X[:,0,-4:-1].copy()"
   ]
  },
  {
   "cell_type": "code",
   "execution_count": 12,
   "id": "58ce953f-20e7-4f01-a131-ce18ae9eb03a",
   "metadata": {},
   "outputs": [
    {
     "data": {
      "text/plain": [
       "(50577, 3)"
      ]
     },
     "execution_count": 12,
     "metadata": {},
     "output_type": "execute_result"
    }
   ],
   "source": [
    "XUBT.shape"
   ]
  },
  {
   "cell_type": "code",
   "execution_count": 13,
   "id": "300fe39d-5b4a-4e09-866c-cb550120d430",
   "metadata": {},
   "outputs": [],
   "source": [
    "Xsig = X[:,0,3:].copy()"
   ]
  },
  {
   "cell_type": "code",
   "execution_count": 14,
   "id": "c65881cb-0b8d-4798-bc1e-44cccfcf1a5b",
   "metadata": {},
   "outputs": [
    {
     "data": {
      "text/plain": [
       "(50577, 5)"
      ]
     },
     "execution_count": 14,
     "metadata": {},
     "output_type": "execute_result"
    }
   ],
   "source": [
    "Xsig.shape"
   ]
  },
  {
   "cell_type": "code",
   "execution_count": 15,
   "id": "921e3700-0701-417f-9b65-a367479d12bc",
   "metadata": {},
   "outputs": [
    {
     "data": {
      "text/plain": [
       "(50577, 5)"
      ]
     },
     "execution_count": 15,
     "metadata": {},
     "output_type": "execute_result"
    }
   ],
   "source": [
    "Xsig.shape"
   ]
  },
  {
   "cell_type": "code",
   "execution_count": 16,
   "id": "be669f53-c514-4b9d-9cf6-e1707a47989a",
   "metadata": {},
   "outputs": [],
   "source": [
    "Xsig[:,0]=0\n",
    "Xsig[:,-1]=1"
   ]
  },
  {
   "cell_type": "code",
   "execution_count": 17,
   "id": "50f59a78-7163-40ca-aae8-f67b8da77c4b",
   "metadata": {},
   "outputs": [
    {
     "data": {
      "text/plain": [
       "(50577, 5)"
      ]
     },
     "execution_count": 17,
     "metadata": {},
     "output_type": "execute_result"
    }
   ],
   "source": [
    "Xsig.shape"
   ]
  },
  {
   "cell_type": "code",
   "execution_count": 18,
   "id": "23389cd8-0fcf-4d15-85ce-1cb7de0c6897",
   "metadata": {},
   "outputs": [
    {
     "data": {
      "text/plain": [
       "(50577, 2000, 4)"
      ]
     },
     "execution_count": 18,
     "metadata": {},
     "output_type": "execute_result"
    }
   ],
   "source": [
    "XSBT.shape"
   ]
  },
  {
   "cell_type": "code",
   "execution_count": 19,
   "id": "e083aa9f-42ca-46bd-84a4-f39e01f011c2",
   "metadata": {},
   "outputs": [
    {
     "data": {
      "text/plain": [
       "(50577, 5)"
      ]
     },
     "execution_count": 19,
     "metadata": {},
     "output_type": "execute_result"
    }
   ],
   "source": [
    "Xsig.shape"
   ]
  },
  {
   "cell_type": "code",
   "execution_count": 20,
   "id": "c9a2f154-af34-42e2-b3eb-9d1ff66d0f45",
   "metadata": {},
   "outputs": [
    {
     "data": {
      "text/plain": [
       "array([[-2437.25, -2437.25, -2437.25, ...,  2442.75,  2442.75,  2442.75],\n",
       "       [-2437.25, -2437.25, -2437.25, ...,  2442.75,  2442.75,  2442.75],\n",
       "       [-2437.25, -2437.25, -2437.25, ...,  2442.75,  2442.75,  2442.75],\n",
       "       ...,\n",
       "       [-2437.25, -2437.25, -2437.25, ...,  2442.75,  2442.75,  2442.75],\n",
       "       [-2437.25, -2437.25, -2437.25, ...,  2442.75,  2442.75,  2442.75],\n",
       "       [-2437.25, -2437.25, -2437.25, ...,  2442.75,  2442.75,  2442.75]])"
      ]
     },
     "execution_count": 20,
     "metadata": {},
     "output_type": "execute_result"
    }
   ],
   "source": [
    "XSBT[:,:,3]"
   ]
  },
  {
   "cell_type": "code",
   "execution_count": 21,
   "id": "adf77158-2fe4-4683-a013-c96caf1bc100",
   "metadata": {},
   "outputs": [
    {
     "data": {
      "text/plain": [
       "(50577, 2000, 4)"
      ]
     },
     "execution_count": 21,
     "metadata": {},
     "output_type": "execute_result"
    }
   ],
   "source": [
    "XSBT.shape"
   ]
  },
  {
   "cell_type": "code",
   "execution_count": 22,
   "id": "65cb8621-91a7-4cd1-8887-50c0dc2e6714",
   "metadata": {},
   "outputs": [],
   "source": [
    "ys=np.concatenate(ys_concat)"
   ]
  },
  {
   "cell_type": "code",
   "execution_count": 23,
   "id": "61d72ca8-2e5b-4ab1-a012-e48e3e96d614",
   "metadata": {},
   "outputs": [],
   "source": [
    "def adjacency(n_dau):\n",
    "    \"\"\" generates a fully connected adjacency\n",
    "        for a mother to daughters \"\"\"\n",
    "    #A = np.diag(np.ones(n_dau+1))\n",
    "    A = np.zeros((n_dau+1, n_dau+1))\n",
    "    \n",
    "    A[0,:] =1\n",
    "    A[:,0] =1\n",
    "    A[0,0]= 0\n",
    "    return A\n",
    "    "
   ]
  },
  {
   "cell_type": "code",
   "execution_count": 24,
   "id": "c6177991-5f10-4214-9cb2-0d7628491249",
   "metadata": {},
   "outputs": [],
   "source": [
    "def adjacency2(n_dau):\n",
    "    \"\"\" generates a fully connected adjacency\n",
    "        for a mother to daughters \"\"\"\n",
    "    #A = np.diag(np.ones(n_dau+1))\n",
    "    A=np.ones((n_dau+1, n_dau+1)) #- np.diag( [1]*(n_dau+1) )\n",
    "    return A"
   ]
  },
  {
   "cell_type": "code",
   "execution_count": 25,
   "id": "b1be1004-88b5-4e0a-b04c-7f36ccd711c8",
   "metadata": {},
   "outputs": [],
   "source": [
    "from sklearn.model_selection import train_test_split\n",
    "import torch\n",
    "from sklearn.preprocessing import RobustScaler, MinMaxScaler"
   ]
  },
  {
   "cell_type": "code",
   "execution_count": 26,
   "id": "e1c0b20a-6e8c-44dc-b0bb-a765cfe2c953",
   "metadata": {},
   "outputs": [],
   "source": [
    "X_SBT_train, X_SBT_val , X_sig_train, X_sig_val, X_UBT_train, X_UBT_val,  y_train, y_val   = train_test_split(XSBT, Xsig, XUBT, ys , test_size= 0.2,shuffle=True)"
   ]
  },
  {
   "cell_type": "code",
   "execution_count": 27,
   "id": "0769791b-c77a-4dc9-947b-08f431d4bf0f",
   "metadata": {},
   "outputs": [],
   "source": [
    "del XSBT\n",
    "del  Xsig, XUBT\n",
    "del X"
   ]
  },
  {
   "cell_type": "code",
   "execution_count": 28,
   "id": "be376daf-b92b-467b-97c2-582918487060",
   "metadata": {},
   "outputs": [],
   "source": [
    "del ys"
   ]
  },
  {
   "cell_type": "code",
   "execution_count": 29,
   "id": "de59ffc4-f2b7-408d-b704-b733822f30e2",
   "metadata": {},
   "outputs": [
    {
     "data": {
      "text/plain": [
       "(40461, 2000, 4)"
      ]
     },
     "execution_count": 29,
     "metadata": {},
     "output_type": "execute_result"
    }
   ],
   "source": [
    "X_SBT_train.shape"
   ]
  },
  {
   "cell_type": "code",
   "execution_count": 30,
   "id": "3d79a149-e2d7-40eb-87cd-06d09c298972",
   "metadata": {},
   "outputs": [
    {
     "data": {
      "text/plain": [
       "(2000, 4)"
      ]
     },
     "execution_count": 30,
     "metadata": {},
     "output_type": "execute_result"
    }
   ],
   "source": [
    "X_SBT_train[i].shape"
   ]
  },
  {
   "cell_type": "code",
   "execution_count": 31,
   "id": "04099a27-7db8-4e88-9286-43433cbcdc84",
   "metadata": {},
   "outputs": [],
   "source": [
    "import torch\n",
    "from torch_geometric.nn import knn\n",
    "k=5\n",
    "kmeans = True"
   ]
  },
  {
   "cell_type": "code",
   "execution_count": 32,
   "id": "23e14c33-f37e-412f-b25f-f4b5ca0e0199",
   "metadata": {},
   "outputs": [
    {
     "data": {
      "text/plain": [
       "(3,)"
      ]
     },
     "execution_count": 32,
     "metadata": {},
     "output_type": "execute_result"
    }
   ],
   "source": [
    "X_UBT_train[0].shape"
   ]
  },
  {
   "cell_type": "code",
   "execution_count": 33,
   "id": "4b70e271-047d-4f78-9302-f5b28270f34e",
   "metadata": {},
   "outputs": [
    {
     "name": "stderr",
     "output_type": "stream",
     "text": [
      "/tmp/ipykernel_6460/924351750.py:10: RuntimeWarning: divide by zero encountered in divide\n",
      "  Xcon = np.hstack([Xcon , np.expand_dims(np.arctan(Xcon[:,2] / Xcon[:,1]),1)])\n",
      "/tmp/ipykernel_6460/924351750.py:35: UserWarning: To copy construct from a tensor, it is recommended to use sourceTensor.clone().detach() or sourceTensor.clone().detach().requires_grad_(True), rather than torch.tensor(sourceTensor).\n",
      "  delta_z =torch.tensor(torch.tensor( Xcon[edge_index[0],3] - Xcon[edge_index[1],3]), dtype=torch.float)\n",
      "/tmp/ipykernel_6460/924351750.py:36: RuntimeWarning: divide by zero encountered in divide\n",
      "  delta_phi =torch.tensor( np.arctan(Xcon[edge_index[0],2] / Xcon[edge_index[0],1]) - np.arctan(Xcon[edge_index[1],2] / Xcon[edge_index[1],1]), dtype=torch.float)\n",
      "/tmp/ipykernel_6460/924351750.py:36: RuntimeWarning: divide by zero encountered in scalar divide\n",
      "  delta_phi =torch.tensor( np.arctan(Xcon[edge_index[0],2] / Xcon[edge_index[0],1]) - np.arctan(Xcon[edge_index[1],2] / Xcon[edge_index[1],1]), dtype=torch.float)\n"
     ]
    }
   ],
   "source": [
    "train_data=[]\n",
    "Xs = []\n",
    "globals = []\n",
    "edges = []\n",
    "j = 0\n",
    "\n",
    "for i in range(X_SBT_train.shape[0]):\n",
    "    Xcon = X_SBT_train[i][ X_SBT_train[i][:,0]>0 ]\n",
    " \n",
    "    Xcon = np.hstack([Xcon , np.expand_dims(np.arctan(Xcon[:,2] / Xcon[:,1]),1)])\n",
    "    if Xcon.shape[0] < 1:\n",
    "        continue\n",
    "\n",
    "    y = torch.tensor(y_train[i], dtype=torch.int64)\n",
    "\n",
    "    Xcon2 = torch.tensor(Xcon, dtype=torch.float)\n",
    "    if Xcon.shape[0] < 22:\n",
    "        A = adjacency2(Xcon.shape[0]-1)\n",
    "        edge_index =torch.tensor(A, dtype=torch.float).nonzero().t().contiguous() \n",
    "    else:\n",
    "        k = 20\n",
    "        assign_index = knn(Xcon2, Xcon2, k)\n",
    "        assign_index = assign_index\n",
    "        assign_index = assign_index[:,assign_index[0]!=assign_index[1]]\n",
    "        edge_index = assign_index\n",
    "\n",
    " \n",
    "    if edge_index.shape[1] == 0:\n",
    "        print(edge_index.shape)\n",
    "\n",
    "    if Xcon.shape[0] == 1:\n",
    "        r = torch.tensor(np.sqrt(np.sum((Xcon[edge_index[0],1:4] - Xcon[edge_index[1],1:4])**2,0)), dtype=torch.float)\n",
    "    else:\n",
    "        r = torch.tensor(np.sqrt(np.sum((Xcon[edge_index[0],1:4] - Xcon[edge_index[1],1:4])**2,1)), dtype=torch.float)\n",
    "    delta_z =torch.tensor(torch.tensor( Xcon[edge_index[0],3] - Xcon[edge_index[1],3]), dtype=torch.float)\n",
    "    delta_phi =torch.tensor( np.arctan(Xcon[edge_index[0],2] / Xcon[edge_index[0],1]) - np.arctan(Xcon[edge_index[1],2] / Xcon[edge_index[1],1]), dtype=torch.float)\n",
    "    edge_features = torch.vstack([r, delta_z, delta_phi])\n",
    "    edge_features = edge_features.T\n",
    "\n",
    "    global_features = np.hstack([X_UBT_train[i] , np.array([Xcon.shape[0]]) ])\n",
    "\n",
    "    global_features = torch.tensor(global_features, dtype=torch.float).unsqueeze(0)\n",
    "\n",
    "    edgepos =  torch.tensor([j]*edge_index[0].shape[0],dtype=torch.int64)\n",
    "\n",
    "    j += 1\n",
    "\n",
    "    Xcon = torch.tensor(Xcon, dtype=torch.float)\n",
    "    train_data.append(Data(nodes=Xcon, edge_index=edge_index,y = y, edges = edge_features, graph_globals = global_features, edgepos=edgepos))"
   ]
  },
  {
   "cell_type": "code",
   "execution_count": 34,
   "id": "5fea70d2-ab60-4394-ba1d-c83f962b997a",
   "metadata": {},
   "outputs": [
    {
     "name": "stderr",
     "output_type": "stream",
     "text": [
      "/tmp/ipykernel_6460/1670577095.py:8: RuntimeWarning: divide by zero encountered in divide\n",
      "  Xcon = np.hstack([Xcon , np.expand_dims(np.arctan(Xcon[:,2] / Xcon[:,1]),1)])\n",
      "/tmp/ipykernel_6460/1670577095.py:34: UserWarning: To copy construct from a tensor, it is recommended to use sourceTensor.clone().detach() or sourceTensor.clone().detach().requires_grad_(True), rather than torch.tensor(sourceTensor).\n",
      "  delta_z =torch.tensor(torch.tensor( Xcon[edge_index[0],3] - Xcon[edge_index[1],3]), dtype=torch.float)\n",
      "/tmp/ipykernel_6460/1670577095.py:35: RuntimeWarning: divide by zero encountered in divide\n",
      "  delta_phi =torch.tensor( np.arctan(Xcon[edge_index[0],2] / Xcon[edge_index[0],1]) - np.arctan(Xcon[edge_index[1],2] / Xcon[edge_index[1],1]), dtype=torch.float)\n",
      "/tmp/ipykernel_6460/1670577095.py:35: RuntimeWarning: divide by zero encountered in scalar divide\n",
      "  delta_phi =torch.tensor( np.arctan(Xcon[edge_index[0],2] / Xcon[edge_index[0],1]) - np.arctan(Xcon[edge_index[1],2] / Xcon[edge_index[1],1]), dtype=torch.float)\n"
     ]
    }
   ],
   "source": [
    "val_data=[]\n",
    "\n",
    "j = 0\n",
    "\n",
    "for i in range(X_SBT_val.shape[0]):\n",
    "    \n",
    "    Xcon = X_SBT_val[i][ X_SBT_val[i][:,0]>0 ]\n",
    "    Xcon = np.hstack([Xcon , np.expand_dims(np.arctan(Xcon[:,2] / Xcon[:,1]),1)])\n",
    "\n",
    "    if Xcon.shape[0] <1:\n",
    "        continue\n",
    "\n",
    "\n",
    "\n",
    "    y = torch.tensor(y_val[i], dtype=torch.int64)\n",
    "\n",
    "    Xcon2 = torch.tensor(Xcon, dtype=torch.float)\n",
    "    if Xcon.shape[0] < 22:\n",
    "        A = adjacency2(Xcon.shape[0]-1)\n",
    "        edge_index =torch.tensor(A, dtype=torch.float).nonzero().t().contiguous() \n",
    "    else:\n",
    "        k = 20\n",
    "        assign_index = knn(Xcon2, Xcon2, k)\n",
    "        assign_index = assign_index\n",
    "        assign_index = assign_index[:,assign_index[0]!=assign_index[1]]\n",
    "        edge_index = assign_index\n",
    "\n",
    "\n",
    "    \n",
    "    if Xcon.shape[0] == 1:\n",
    "        r = torch.tensor(np.sqrt(np.sum((Xcon[edge_index[0],1:4] - Xcon[edge_index[1],1:4])**2,0)), dtype=torch.float)\n",
    "    else:\n",
    "        r = torch.tensor(np.sqrt(np.sum((Xcon[edge_index[0],1:4] - Xcon[edge_index[1],1:4])**2,1)), dtype=torch.float)\n",
    "    delta_z =torch.tensor(torch.tensor( Xcon[edge_index[0],3] - Xcon[edge_index[1],3]), dtype=torch.float)\n",
    "    delta_phi =torch.tensor( np.arctan(Xcon[edge_index[0],2] / Xcon[edge_index[0],1]) - np.arctan(Xcon[edge_index[1],2] / Xcon[edge_index[1],1]), dtype=torch.float)\n",
    "    edge_features = torch.vstack([r, delta_z, delta_phi])\n",
    "    edge_features = edge_features.T\n",
    "  \n",
    "    global_features = np.hstack([X_UBT_val[i] , np.array([Xcon.shape[0]]) ])\n",
    "    global_features = torch.tensor(global_features, dtype=torch.float).unsqueeze(0)\n",
    "    edgepos =  torch.tensor([j]*edge_index[0].shape[0],dtype=torch.int64)\n",
    "\n",
    "    j += 1\n",
    "    Xcon = torch.tensor(Xcon, dtype=torch.float)\n",
    "    val_data.append(Data(nodes=Xcon, edge_index=edge_index,y = y, edges = edge_features, graph_globals = global_features, edgepos=edgepos))"
   ]
  },
  {
   "cell_type": "code",
   "execution_count": null,
   "id": "a94e43d6-fde2-4edb-bdca-02252ff73b56",
   "metadata": {},
   "outputs": [],
   "source": []
  },
  {
   "cell_type": "code",
   "execution_count": 35,
   "id": "13d000e6-61d8-476f-8fd5-5d7b92c2906c",
   "metadata": {},
   "outputs": [],
   "source": [
    "from torch_geometric.data import Data\n",
    "from torch_geometric.loader import DataLoader\n",
    "\n",
    "loader = DataLoader(train_data, batch_size=32 )#, shuffle=True)\n",
    "valloader = DataLoader(val_data, batch_size=32 ) #shuffle=True)"
   ]
  },
  {
   "cell_type": "code",
   "execution_count": 36,
   "id": "5cf31337-f7b1-49e6-a412-4726575af1ae",
   "metadata": {},
   "outputs": [
    {
     "data": {
      "text/plain": [
       "EncodeProcessDecode(\n",
       "  (_encoder): MLPGraphIndependent(\n",
       "    (_network): GraphIndependent(\n",
       "      (_edge_model): WrappedModelFnModule(\n",
       "        (_model): MLP(-1, 128, 128, 128, 8)\n",
       "      )\n",
       "      (_node_model): WrappedModelFnModule(\n",
       "        (_model): MLP(-1, 128, 128, 128, 8)\n",
       "      )\n",
       "      (_global_model): WrappedModelFnModule(\n",
       "        (_model): MLP(-1, 128, 128, 128, 8)\n",
       "      )\n",
       "    )\n",
       "  )\n",
       "  (_core): MLPGraphNetwork(\n",
       "    (_network): GraphNetwork(\n",
       "      (_edge_block): EdgeBlock(\n",
       "        (_edge_model): MLP(-1, 128, 128, 128, 8)\n",
       "      )\n",
       "      (_node_block): NodeBlock(\n",
       "        (_node_model): MLP(-1, 128, 128, 128, 8)\n",
       "        (_sent_edges_aggregator): EdgesToNodesAggregator()\n",
       "      )\n",
       "      (_global_block): GlobalBlock(\n",
       "        (_global_model): MLP(-1, 128, 128, 128, 8)\n",
       "        (_edges_aggregator): EdgesToGlobalsAggregator()\n",
       "        (_nodes_aggregator): NodesToGlobalsAggregator()\n",
       "      )\n",
       "    )\n",
       "  )\n",
       "  (_blocks): ModuleList(\n",
       "    (0-3): 4 x MLPGraphNetwork(\n",
       "      (_network): GraphNetwork(\n",
       "        (_edge_block): EdgeBlock(\n",
       "          (_edge_model): MLP(-1, 128, 128, 128, 8)\n",
       "        )\n",
       "        (_node_block): NodeBlock(\n",
       "          (_node_model): MLP(-1, 128, 128, 128, 8)\n",
       "          (_sent_edges_aggregator): EdgesToNodesAggregator()\n",
       "        )\n",
       "        (_global_block): GlobalBlock(\n",
       "          (_global_model): MLP(-1, 128, 128, 128, 8)\n",
       "          (_edges_aggregator): EdgesToGlobalsAggregator()\n",
       "          (_nodes_aggregator): NodesToGlobalsAggregator()\n",
       "        )\n",
       "      )\n",
       "    )\n",
       "  )\n",
       "  (_decoder): MLPGraphIndependent(\n",
       "    (_network): GraphIndependent(\n",
       "      (_edge_model): WrappedModelFnModule(\n",
       "        (_model): MLP(-1, 128, 128, 128, 8)\n",
       "      )\n",
       "      (_node_model): WrappedModelFnModule(\n",
       "        (_model): MLP(-1, 128, 128, 128, 8)\n",
       "      )\n",
       "      (_global_model): WrappedModelFnModule(\n",
       "        (_model): MLP(-1, 128, 128, 128, 8)\n",
       "      )\n",
       "    )\n",
       "  )\n",
       "  (_output_transform): GraphIndependent(\n",
       "    (_global_model): WrappedModelFnModule(\n",
       "      (_model): Linear(in_features=8, out_features=3, bias=True)\n",
       "    )\n",
       "  )\n",
       ")"
      ]
     },
     "execution_count": 36,
     "metadata": {},
     "output_type": "execute_result"
    }
   ],
   "source": [
    "STEP_SIZE = 2\n",
    "MLP_OUTPUT_SIZE = 8\n",
    "HIDDEN_CHANNELS = 64\n",
    "NUM_LAYERS = 4\n",
    "from sbtveto.model.gnn_model import EncodeProcessDecode\n",
    "model=EncodeProcessDecode(mlp_output_size=MLP_OUTPUT_SIZE, global_op=3,num_blocks=4)\n",
    "\n",
    "\n",
    "device = torch.device('cuda' if torch.cuda.is_available() else 'cpu')\n",
    "\n",
    "model.to(device)"
   ]
  },
  {
   "cell_type": "code",
   "execution_count": 37,
   "id": "e4d18416-9e31-4f66-a706-89e43b3150ea",
   "metadata": {},
   "outputs": [],
   "source": [
    "losses = []\n",
    "accuracy = []\n",
    "vallosses = []\n",
    "valaccuracy = []"
   ]
  },
  {
   "cell_type": "code",
   "execution_count": 38,
   "id": "c1b57c5f-215a-44fb-be4c-877996720b9f",
   "metadata": {},
   "outputs": [
    {
     "name": "stdout",
     "output_type": "stream",
     "text": [
      "Epoch  0\n",
      "Training Loss  13.13427459448576\n",
      "Val Loss  2.5542671646689996\n",
      "\n",
      "Epoch  1\n",
      "Training Loss  9.407475438492838\n",
      "Val Loss  2.0798857130575925\n",
      "\n",
      "Epoch  2\n",
      "Training Loss  8.050410629308317\n",
      "Val Loss  1.8865126526216045\n",
      "\n",
      "Epoch  3\n",
      "Training Loss  8.141370708472095\n",
      "Val Loss  2.193217820255086\n",
      "\n",
      "Epoch  4\n",
      "Training Loss  7.278976498520933\n",
      "Val Loss  1.9847892940742895\n",
      "\n",
      "Epoch  5\n",
      "Training Loss  7.040212078369223\n",
      "Val Loss  1.7683684712392278\n",
      "\n",
      "Epoch  6\n",
      "Training Loss  7.020070332160685\n",
      "Val Loss  1.7696345367003232\n",
      "\n",
      "Epoch  7\n",
      "Training Loss  6.883447757572867\n",
      "Val Loss  1.7030817855265923\n",
      "\n"
     ]
    },
    {
     "ename": "KeyboardInterrupt",
     "evalue": "",
     "output_type": "error",
     "traceback": [
      "\u001b[0;31m---------------------------------------------------------------------------\u001b[0m",
      "\u001b[0;31mKeyboardInterrupt\u001b[0m                         Traceback (most recent call last)",
      "Cell \u001b[0;32mIn[38], line 33\u001b[0m\n\u001b[1;32m     28\u001b[0m out \u001b[38;5;241m=\u001b[39m out[\u001b[38;5;124m'\u001b[39m\u001b[38;5;124mgraph_globals\u001b[39m\u001b[38;5;124m'\u001b[39m]\n\u001b[1;32m     29\u001b[0m loss \u001b[38;5;241m=\u001b[39m criterion(out, b\u001b[38;5;241m.\u001b[39my) \n\u001b[0;32m---> 33\u001b[0m \u001b[43mloss\u001b[49m\u001b[38;5;241;43m.\u001b[39;49m\u001b[43mbackward\u001b[49m\u001b[43m(\u001b[49m\u001b[43m)\u001b[49m\n\u001b[1;32m     34\u001b[0m optimizer_GCN\u001b[38;5;241m.\u001b[39mstep()\n\u001b[1;32m     35\u001b[0m total \u001b[38;5;241m+\u001b[39m\u001b[38;5;241m=\u001b[39m b\u001b[38;5;241m.\u001b[39my\u001b[38;5;241m.\u001b[39msize(\u001b[38;5;241m0\u001b[39m)\n",
      "File \u001b[0;32m~/anaconda3/envs/torch24/lib/python3.12/site-packages/torch/_tensor.py:521\u001b[0m, in \u001b[0;36mTensor.backward\u001b[0;34m(self, gradient, retain_graph, create_graph, inputs)\u001b[0m\n\u001b[1;32m    511\u001b[0m \u001b[38;5;28;01mif\u001b[39;00m has_torch_function_unary(\u001b[38;5;28mself\u001b[39m):\n\u001b[1;32m    512\u001b[0m     \u001b[38;5;28;01mreturn\u001b[39;00m handle_torch_function(\n\u001b[1;32m    513\u001b[0m         Tensor\u001b[38;5;241m.\u001b[39mbackward,\n\u001b[1;32m    514\u001b[0m         (\u001b[38;5;28mself\u001b[39m,),\n\u001b[0;32m   (...)\u001b[0m\n\u001b[1;32m    519\u001b[0m         inputs\u001b[38;5;241m=\u001b[39minputs,\n\u001b[1;32m    520\u001b[0m     )\n\u001b[0;32m--> 521\u001b[0m \u001b[43mtorch\u001b[49m\u001b[38;5;241;43m.\u001b[39;49m\u001b[43mautograd\u001b[49m\u001b[38;5;241;43m.\u001b[39;49m\u001b[43mbackward\u001b[49m\u001b[43m(\u001b[49m\n\u001b[1;32m    522\u001b[0m \u001b[43m    \u001b[49m\u001b[38;5;28;43mself\u001b[39;49m\u001b[43m,\u001b[49m\u001b[43m \u001b[49m\u001b[43mgradient\u001b[49m\u001b[43m,\u001b[49m\u001b[43m \u001b[49m\u001b[43mretain_graph\u001b[49m\u001b[43m,\u001b[49m\u001b[43m \u001b[49m\u001b[43mcreate_graph\u001b[49m\u001b[43m,\u001b[49m\u001b[43m \u001b[49m\u001b[43minputs\u001b[49m\u001b[38;5;241;43m=\u001b[39;49m\u001b[43minputs\u001b[49m\n\u001b[1;32m    523\u001b[0m \u001b[43m\u001b[49m\u001b[43m)\u001b[49m\n",
      "File \u001b[0;32m~/anaconda3/envs/torch24/lib/python3.12/site-packages/torch/autograd/__init__.py:289\u001b[0m, in \u001b[0;36mbackward\u001b[0;34m(tensors, grad_tensors, retain_graph, create_graph, grad_variables, inputs)\u001b[0m\n\u001b[1;32m    284\u001b[0m     retain_graph \u001b[38;5;241m=\u001b[39m create_graph\n\u001b[1;32m    286\u001b[0m \u001b[38;5;66;03m# The reason we repeat the same comment below is that\u001b[39;00m\n\u001b[1;32m    287\u001b[0m \u001b[38;5;66;03m# some Python versions print out the first line of a multi-line function\u001b[39;00m\n\u001b[1;32m    288\u001b[0m \u001b[38;5;66;03m# calls in the traceback and some print out the last line\u001b[39;00m\n\u001b[0;32m--> 289\u001b[0m \u001b[43m_engine_run_backward\u001b[49m\u001b[43m(\u001b[49m\n\u001b[1;32m    290\u001b[0m \u001b[43m    \u001b[49m\u001b[43mtensors\u001b[49m\u001b[43m,\u001b[49m\n\u001b[1;32m    291\u001b[0m \u001b[43m    \u001b[49m\u001b[43mgrad_tensors_\u001b[49m\u001b[43m,\u001b[49m\n\u001b[1;32m    292\u001b[0m \u001b[43m    \u001b[49m\u001b[43mretain_graph\u001b[49m\u001b[43m,\u001b[49m\n\u001b[1;32m    293\u001b[0m \u001b[43m    \u001b[49m\u001b[43mcreate_graph\u001b[49m\u001b[43m,\u001b[49m\n\u001b[1;32m    294\u001b[0m \u001b[43m    \u001b[49m\u001b[43minputs\u001b[49m\u001b[43m,\u001b[49m\n\u001b[1;32m    295\u001b[0m \u001b[43m    \u001b[49m\u001b[43mallow_unreachable\u001b[49m\u001b[38;5;241;43m=\u001b[39;49m\u001b[38;5;28;43;01mTrue\u001b[39;49;00m\u001b[43m,\u001b[49m\n\u001b[1;32m    296\u001b[0m \u001b[43m    \u001b[49m\u001b[43maccumulate_grad\u001b[49m\u001b[38;5;241;43m=\u001b[39;49m\u001b[38;5;28;43;01mTrue\u001b[39;49;00m\u001b[43m,\u001b[49m\n\u001b[1;32m    297\u001b[0m \u001b[43m\u001b[49m\u001b[43m)\u001b[49m\n",
      "File \u001b[0;32m~/anaconda3/envs/torch24/lib/python3.12/site-packages/torch/autograd/graph.py:769\u001b[0m, in \u001b[0;36m_engine_run_backward\u001b[0;34m(t_outputs, *args, **kwargs)\u001b[0m\n\u001b[1;32m    767\u001b[0m     unregister_hooks \u001b[38;5;241m=\u001b[39m _register_logging_hooks_on_whole_graph(t_outputs)\n\u001b[1;32m    768\u001b[0m \u001b[38;5;28;01mtry\u001b[39;00m:\n\u001b[0;32m--> 769\u001b[0m     \u001b[38;5;28;01mreturn\u001b[39;00m \u001b[43mVariable\u001b[49m\u001b[38;5;241;43m.\u001b[39;49m\u001b[43m_execution_engine\u001b[49m\u001b[38;5;241;43m.\u001b[39;49m\u001b[43mrun_backward\u001b[49m\u001b[43m(\u001b[49m\u001b[43m  \u001b[49m\u001b[38;5;66;43;03m# Calls into the C++ engine to run the backward pass\u001b[39;49;00m\n\u001b[1;32m    770\u001b[0m \u001b[43m        \u001b[49m\u001b[43mt_outputs\u001b[49m\u001b[43m,\u001b[49m\u001b[43m \u001b[49m\u001b[38;5;241;43m*\u001b[39;49m\u001b[43margs\u001b[49m\u001b[43m,\u001b[49m\u001b[43m \u001b[49m\u001b[38;5;241;43m*\u001b[39;49m\u001b[38;5;241;43m*\u001b[39;49m\u001b[43mkwargs\u001b[49m\n\u001b[1;32m    771\u001b[0m \u001b[43m    \u001b[49m\u001b[43m)\u001b[49m  \u001b[38;5;66;03m# Calls into the C++ engine to run the backward pass\u001b[39;00m\n\u001b[1;32m    772\u001b[0m \u001b[38;5;28;01mfinally\u001b[39;00m:\n\u001b[1;32m    773\u001b[0m     \u001b[38;5;28;01mif\u001b[39;00m attach_logging_hooks:\n",
      "\u001b[0;31mKeyboardInterrupt\u001b[0m: "
     ]
    }
   ],
   "source": [
    "\n",
    "optimizer_GCN = torch.optim.Adam(model.parameters(), lr=0.001)\n",
    "\n",
    "criterion = torch.nn.CrossEntropyLoss()\n",
    "\n",
    "\n",
    "for epoch in range(25):\n",
    "    total = 0\n",
    "    correct = 0\n",
    "    valtotal = 0\n",
    "    valcorrect = 0\n",
    "    epoch_loss = 0 \n",
    "    val_epoch_loss = 0\n",
    "    if epoch == 20:\n",
    "        optimizer_GCN = torch.optim.Adam(model.parameters(), lr=0.0001)\n",
    "    \n",
    "    for b in loader:\n",
    "        b.to(device)\n",
    "\n",
    "\n",
    "        b['receivers'] = b.edge_index[1]\n",
    "        b['senders'] = b.edge_index[0]\n",
    "  \n",
    "        b['edgepos'] = b['edgepos'] - torch.min(b['edgepos'])\n",
    "\n",
    "        optimizer_GCN.zero_grad()\n",
    "\n",
    "        out = model(b)\n",
    "        out = out['graph_globals']\n",
    "        loss = criterion(out, b.y) \n",
    "\n",
    "\n",
    "\n",
    "        loss.backward()\n",
    "        optimizer_GCN.step()\n",
    "        total += b.y.size(0)\n",
    "        epoch_loss += loss.item()/32\n",
    "\n",
    "        \n",
    "        \n",
    "    for b in valloader:\n",
    "        b.to(device)\n",
    "        b['receivers'] = b.edge_index[1]\n",
    "        b['senders'] = b.edge_index[0]\n",
    "        b['edgepos'] = b['edgepos'] - torch.min(b['edgepos'])\n",
    "        \n",
    "        out = model(b)['graph_globals']\n",
    "        \n",
    "        valloss = criterion(out, b.y)\n",
    "       \n",
    "        valtotal += b.y.size(0)\n",
    "        val_epoch_loss += valloss.item()/32\n",
    "\n",
    "        \n",
    "            \n",
    "        \n",
    "    print(\"Epoch \", epoch)    \n",
    "    print(\"Training Loss \", epoch_loss)\n",
    "\n",
    "    print(\"Val Loss \", val_epoch_loss)\n",
    "\n",
    "    losses.append(epoch_loss)\n",
    "\n",
    "    vallosses.append(val_epoch_loss)\n",
    "  \n",
    "    print(\"\")"
   ]
  },
  {
   "cell_type": "code",
   "execution_count": 39,
   "id": "c86e0b02-bf90-4867-8bc7-e696a0fb9f5a",
   "metadata": {},
   "outputs": [],
   "source": [
    "def count_parameters(model):\n",
    "    return sum(p.numel() for p in model.parameters() if p.requires_grad)\n"
   ]
  },
  {
   "cell_type": "code",
   "execution_count": 50,
   "id": "e842b129-7f97-42d2-8fbb-2ea4b057673b",
   "metadata": {},
   "outputs": [],
   "source": [
    "torch.save(model.state_dict(), \"SBT_vacuum_multiclass_4block_GNN_noUBT.pt\")"
   ]
  },
  {
   "cell_type": "code",
   "execution_count": 40,
   "id": "91295aeb-871f-4bb8-b7ed-54e7f60a81cd",
   "metadata": {},
   "outputs": [
    {
     "data": {
      "text/plain": [
       "682411"
      ]
     },
     "execution_count": 40,
     "metadata": {},
     "output_type": "execute_result"
    }
   ],
   "source": [
    "count_parameters(model)"
   ]
  },
  {
   "cell_type": "code",
   "execution_count": 39,
   "id": "e873c9e7-4245-4abf-aef0-df738075f588",
   "metadata": {},
   "outputs": [
    {
     "data": {
      "text/plain": [
       "EncodeProcessDecode(\n",
       "  (_encoder): MLPGraphIndependent(\n",
       "    (_network): GraphIndependent(\n",
       "      (_edge_model): WrappedModelFnModule(\n",
       "        (_model): MLP(-1, 128, 128, 128, 8)\n",
       "      )\n",
       "      (_node_model): WrappedModelFnModule(\n",
       "        (_model): MLP(-1, 128, 128, 128, 8)\n",
       "      )\n",
       "      (_global_model): WrappedModelFnModule(\n",
       "        (_model): MLP(-1, 128, 128, 128, 8)\n",
       "      )\n",
       "    )\n",
       "  )\n",
       "  (_core): MLPGraphNetwork(\n",
       "    (_network): GraphNetwork(\n",
       "      (_edge_block): EdgeBlock(\n",
       "        (_edge_model): MLP(-1, 128, 128, 128, 8)\n",
       "      )\n",
       "      (_node_block): NodeBlock(\n",
       "        (_node_model): MLP(-1, 128, 128, 128, 8)\n",
       "        (_sent_edges_aggregator): EdgesToNodesAggregator()\n",
       "      )\n",
       "      (_global_block): GlobalBlock(\n",
       "        (_global_model): MLP(-1, 128, 128, 128, 8)\n",
       "        (_edges_aggregator): EdgesToGlobalsAggregator()\n",
       "        (_nodes_aggregator): NodesToGlobalsAggregator()\n",
       "      )\n",
       "    )\n",
       "  )\n",
       "  (_blocks): ModuleList(\n",
       "    (0-3): 4 x MLPGraphNetwork(\n",
       "      (_network): GraphNetwork(\n",
       "        (_edge_block): EdgeBlock(\n",
       "          (_edge_model): MLP(-1, 128, 128, 128, 8)\n",
       "        )\n",
       "        (_node_block): NodeBlock(\n",
       "          (_node_model): MLP(-1, 128, 128, 128, 8)\n",
       "          (_sent_edges_aggregator): EdgesToNodesAggregator()\n",
       "        )\n",
       "        (_global_block): GlobalBlock(\n",
       "          (_global_model): MLP(-1, 128, 128, 128, 8)\n",
       "          (_edges_aggregator): EdgesToGlobalsAggregator()\n",
       "          (_nodes_aggregator): NodesToGlobalsAggregator()\n",
       "        )\n",
       "      )\n",
       "    )\n",
       "  )\n",
       "  (_decoder): MLPGraphIndependent(\n",
       "    (_network): GraphIndependent(\n",
       "      (_edge_model): WrappedModelFnModule(\n",
       "        (_model): MLP(-1, 128, 128, 128, 8)\n",
       "      )\n",
       "      (_node_model): WrappedModelFnModule(\n",
       "        (_model): MLP(-1, 128, 128, 128, 8)\n",
       "      )\n",
       "      (_global_model): WrappedModelFnModule(\n",
       "        (_model): MLP(-1, 128, 128, 128, 8)\n",
       "      )\n",
       "    )\n",
       "  )\n",
       "  (_output_transform): GraphIndependent(\n",
       "    (_global_model): WrappedModelFnModule(\n",
       "      (_model): Linear(in_features=8, out_features=3, bias=True)\n",
       "    )\n",
       "  )\n",
       ")"
      ]
     },
     "execution_count": 39,
     "metadata": {},
     "output_type": "execute_result"
    }
   ],
   "source": [
    "model.load_state_dict(torch.load(\"data/SBT_vacuum_multiclass_4block_GNN_noUBT.pt\", weights_only=True))\n",
    "model.eval()"
   ]
  },
  {
   "cell_type": "code",
   "execution_count": 40,
   "id": "c79d9f96-2e77-4b43-b517-93733d1885f0",
   "metadata": {},
   "outputs": [],
   "source": [
    "ypreds  = []\n",
    "true = []\n",
    "for b in valloader:\n",
    "    b.to(device)\n",
    "    #b['graph_globals'] = b['graph_globals'].unsqueeze(1)\n",
    "    #b['edges'] = b['edges'].unsqueeze(1)\n",
    "    b['receivers'] = b.edge_index[1]\n",
    "    b['senders'] = b.edge_index[0]\n",
    "    b['edgepos'] = b['edgepos'] - torch.min(b['edgepos'])\n",
    "    out = model(b)[\"graph_globals\"]\n",
    "    out = out.squeeze(1)\n",
    "\n",
    "    _, predicted = torch.max(out, dim = 1)\n",
    "    true.append(b.y.detach().cpu().numpy())\n",
    "    ypreds.append(predicted.cpu().detach().numpy())        \n",
    "preds = np.concatenate(ypreds)\n",
    "true = np.concatenate(true)"
   ]
  },
  {
   "cell_type": "code",
   "execution_count": 41,
   "id": "dc397bd3-aa7d-4998-962a-fe2b19914c02",
   "metadata": {},
   "outputs": [
    {
     "data": {
      "text/plain": [
       "(9066,)"
      ]
     },
     "execution_count": 41,
     "metadata": {},
     "output_type": "execute_result"
    }
   ],
   "source": [
    "preds.shape"
   ]
  },
  {
   "cell_type": "code",
   "execution_count": 42,
   "id": "8c1cafb1-1c4a-4761-befc-e36d99b2446e",
   "metadata": {},
   "outputs": [
    {
     "data": {
      "text/plain": [
       "np.float64(0.9640414736377675)"
      ]
     },
     "execution_count": 42,
     "metadata": {},
     "output_type": "execute_result"
    }
   ],
   "source": [
    "np.sum(preds == true)/true.shape[0]"
   ]
  },
  {
   "cell_type": "code",
   "execution_count": 43,
   "id": "092c0774-95d9-4fb4-9534-eef9a1018110",
   "metadata": {},
   "outputs": [
    {
     "data": {
      "text/plain": [
       "array([2, 2, 2, ..., 0, 2, 0])"
      ]
     },
     "execution_count": 43,
     "metadata": {},
     "output_type": "execute_result"
    }
   ],
   "source": [
    "preds"
   ]
  },
  {
   "cell_type": "code",
   "execution_count": 44,
   "id": "81da2acb-0e11-4a19-a7dd-4f3c0c4c9ef9",
   "metadata": {},
   "outputs": [
    {
     "data": {
      "text/plain": [
       "array([0, 0, 0, ..., 0, 0, 0])"
      ]
     },
     "execution_count": 44,
     "metadata": {},
     "output_type": "execute_result"
    }
   ],
   "source": [
    "true[true==0]"
   ]
  },
  {
   "cell_type": "code",
   "execution_count": 45,
   "id": "4ae6c604-ae10-41e2-a106-31cd441ac8cb",
   "metadata": {},
   "outputs": [],
   "source": [
    "labels=['signal',r'$\\nu$-DIS', r'$\\mu$-DIS']\n",
    "from sklearn.metrics import confusion_matrix\n",
    "\n",
    "cm = confusion_matrix(true, preds)"
   ]
  },
  {
   "cell_type": "code",
   "execution_count": 46,
   "id": "4d952bb6-48c5-4dd6-8ecb-ef44fd655826",
   "metadata": {},
   "outputs": [],
   "source": [
    "cmnew =cm/np.expand_dims(np.sum(cm,1),1)"
   ]
  },
  {
   "cell_type": "code",
   "execution_count": 47,
   "id": "13f0a020-e95e-4ba2-ae2d-9d3f03289811",
   "metadata": {},
   "outputs": [
    {
     "data": {
      "text/plain": [
       "array([[2734],\n",
       "       [3128],\n",
       "       [3204]])"
      ]
     },
     "execution_count": 47,
     "metadata": {},
     "output_type": "execute_result"
    }
   ],
   "source": [
    "np.expand_dims(np.sum(cm,1),1)"
   ]
  },
  {
   "cell_type": "code",
   "execution_count": 48,
   "id": "fb78c61f-0106-4d63-bdf8-d6dd90f0e157",
   "metadata": {},
   "outputs": [
    {
     "data": {
      "text/plain": [
       "array([[2723,    4,    7],\n",
       "       [  16, 3033,   79],\n",
       "       [   9,  211, 2984]])"
      ]
     },
     "execution_count": 48,
     "metadata": {},
     "output_type": "execute_result"
    }
   ],
   "source": [
    "cm"
   ]
  },
  {
   "cell_type": "code",
   "execution_count": 49,
   "id": "6b8c74e7-d4d9-4961-b68f-2a69be6bf8d6",
   "metadata": {},
   "outputs": [
    {
     "data": {
      "text/plain": [
       "0.29392553886348793"
      ]
     },
     "execution_count": 49,
     "metadata": {},
     "output_type": "execute_result"
    }
   ],
   "source": [
    "100*9/(9+3+3050)"
   ]
  },
  {
   "cell_type": "code",
   "execution_count": 50,
   "id": "7e1420cc-d385-4e32-ae7a-377475826771",
   "metadata": {},
   "outputs": [
    {
     "data": {
      "text/plain": [
       "0.9974662162162162"
      ]
     },
     "execution_count": 50,
     "metadata": {},
     "output_type": "execute_result"
    }
   ],
   "source": [
    "1181/(1181+3)"
   ]
  },
  {
   "cell_type": "code",
   "execution_count": 51,
   "id": "262ebc70-fa42-44ad-b295-e6c74069333a",
   "metadata": {},
   "outputs": [
    {
     "data": {
      "text/plain": [
       "array([[0.99597659, 0.00146306, 0.00256035],\n",
       "       [0.00511509, 0.96962916, 0.02525575],\n",
       "       [0.00280899, 0.06585518, 0.93133583]])"
      ]
     },
     "execution_count": 51,
     "metadata": {},
     "output_type": "execute_result"
    }
   ],
   "source": [
    "cmnew"
   ]
  },
  {
   "cell_type": "code",
   "execution_count": 52,
   "id": "3295a7ec-cd01-4ea4-b599-b4675709969a",
   "metadata": {},
   "outputs": [],
   "source": [
    "import matplotlib.pyplot as plt\n",
    "\n",
    "def plot_errorband(x, y, y_err, label, color):\n",
    "    plt.plot(x, y, color=color, ls='solid', label=label)\n",
    "    plt.fill_between(x, y_err[0],y_err[1], color=color, alpha=0.3, lw=0)\n",
    "   \n",
    "    \n",
    "def init_thesis_plot_style():\n",
    "    my_rc_params = {\n",
    "        \"xtick.direction\": \"in\",\n",
    "        \"xtick.major.size\": 8.0,\n",
    "        \"xtick.minor.size\": 4.0,\n",
    "        \"xtick.minor.visible\": True,\n",
    "        \"xtick.major.width\": 1.2,\n",
    "        \"xtick.minor.width\": 0.9,\n",
    "        \"ytick.direction\": \"in\",\n",
    "        \"ytick.major.size\": 8.0,\n",
    "        \"ytick.minor.size\": 4.0,\n",
    "        \"ytick.minor.visible\": True,\n",
    "        \"ytick.major.width\": 1.2,\n",
    "        \"ytick.minor.width\": 0.9,\n",
    "        \"errorbar.capsize\": 2,\n",
    "        \"axes.linewidth\": 1.2,\n",
    "        # \"font.familiy\": \"serif\",\n",
    "        \"font.size\": 14,\n",
    "        \"axes.grid\": False,\n",
    "        \"ytick.right\": True,\n",
    "        \"xtick.top\": True\n",
    "    }\n",
    "    return(my_rc_params)\n",
    "class Tango(object):\n",
    "    scarlet_red_light = '#ef2929'\n",
    "    scarlet_red = '#cc0000'\n",
    "    scarlet_red_dark = '#a40000'\n",
    "\n",
    "    aluminium_light = '#eeeeec'\n",
    "    aluminium = '#d3d7cf'\n",
    "    aluminium_dark = '#babdb6'\n",
    "\n",
    "    butter_light = '#fce94f'\n",
    "    butter = '#edd400'\n",
    "    butter_dark = '#c4a000'\n",
    "\n",
    "    chameleon_light = '#8ae234'\n",
    "    chameleon = '#73d216'\n",
    "    chameleon_dark = '#4e9a06'\n",
    "\n",
    "    orange_light = '#fcaf3e'\n",
    "    orange = '#f57900'\n",
    "    orange_dark = '#ce5c00'\n",
    "\n",
    "    chocolate_light = '#e9b96e'\n",
    "    chocolate = '#c17d11'\n",
    "    chocolate_dark = '#8f5902'\n",
    "\n",
    "    sky_blue_light = '#729fcf'\n",
    "    sky_blue = '#3465a4'\n",
    "    sky_blue_dark = '#204a87'\n",
    "\n",
    "    plum_light = '#ad7fa8'\n",
    "    plum = '#75507b'\n",
    "    plum_dark = '#5c3566'\n",
    "\n",
    "    slate_light = '#888a85'\n",
    "    slate = '#555753'\n",
    "    slate_dark = '#2e3436'\n",
    "\n",
    "init_thesis_plot_style()\n",
    "plt.rcParams.update(init_thesis_plot_style())"
   ]
  },
  {
   "cell_type": "code",
   "execution_count": 54,
   "id": "935b54a4-d125-45e4-9ed7-fe2e83907432",
   "metadata": {},
   "outputs": [
    {
     "data": {
      "image/png": "[encoded data removed]",
      "text/plain": [
       "<Figure size 640x480 with 2 Axes>"
      ]
     },
     "metadata": {},
     "output_type": "display_data"
    }
   ],
   "source": [
    "import seaborn as sns\n",
    "from matplotlib.colors import LogNorm\n",
    "sns.heatmap(cmnew, \n",
    "            fmt='.2%', norm= LogNorm(),\n",
    "            annot=True,  xticklabels=labels, yticklabels=labels, cmap='Blues')\n",
    "plt.savefig('GNN_SHIP_Oct_Confusion.png')"
   ]
  },
  {
   "cell_type": "code",
   "execution_count": 67,
   "id": "c9c368a3-7ed3-4643-bdcd-49f4f3bc10ba",
   "metadata": {},
   "outputs": [
    {
     "data": {
      "image/png": "[encoded data removed]",
      "text/plain": [
       "<Figure size 640x480 with 2 Axes>"
      ]
     },
     "metadata": {},
     "output_type": "display_data"
    }
   ],
   "source": [
    "import seaborn as sns\n",
    "from matplotlib.colors import LogNorm\n",
    "sns.heatmap(cmnew, \n",
    "            fmt='.2%', norm= LogNorm(),\n",
    "            annot=True,  xticklabels=labels, yticklabels=labels, cmap='Blues')\n",
    "plt.savefig('CM_GNN_CE_val_newdataset_new.png')"
   ]
  },
  {
   "cell_type": "code",
   "execution_count": 87,
   "id": "cac7e5c5-7b5a-439b-80d0-f06aeb30d54d",
   "metadata": {},
   "outputs": [
    {
     "data": {
      "text/plain": [
       "<matplotlib.legend.Legend at 0x742061e338c0>"
      ]
     },
     "execution_count": 87,
     "metadata": {},
     "output_type": "execute_result"
    },
    {
     "data": {
      "image/png": "[encoded data removed]",
      "text/plain": [
       "<Figure size 640x480 with 1 Axes>"
      ]
     },
     "metadata": {},
     "output_type": "display_data"
    }
   ],
   "source": [
    "import matplotlib.pyplot as plt\n",
    "epochs = np.arange(1, len(losses)+1)\n",
    "\n",
    "plt.plot(epochs[1:],np.array(losses)[1:]*32./len(train_data), label=\"Train\")\n",
    "plt.plot(epochs[1:],np.array(vallosses)[1:]*32./len(val_data), label=\"Val\")\n",
    "plt.xlabel('Epochs')\n",
    "plt.ylabel('Loss')\n",
    "plt.legend()"
   ]
  },
  {
   "cell_type": "code",
   "execution_count": 65,
   "id": "d6fbd29c-b7b1-4fd0-a370-d2cca13d3dfc",
   "metadata": {},
   "outputs": [],
   "source": [
    "file = uproot.open(neu_files[0])\n",
    "x = file['tree;1']['inputmatrix'].array()\n",
    "x = np.array(x)[:,:-1]"
   ]
  },
  {
   "cell_type": "code",
   "execution_count": 63,
   "id": "2bebe2ea-a20d-47d3-b252-50be574ed964",
   "metadata": {},
   "outputs": [],
   "source": [
    "def gnn_output(model, x, XYZ,  device = \"cpu\"):\n",
    "    j=0\n",
    "    X = np.vstack([ np.expand_dims(x[:,:2000],0),np.expand_dims(np.repeat(XYZ[:1,:],x.shape[0],0),0),\n",
    "              np.expand_dims(np.repeat(XYZ[1:2,:],x.shape[0],0),0),\n",
    "              np.expand_dims(np.repeat(XYZ[2:,:],x.shape[0],0),0),\n",
    "                    np.expand_dims(np.repeat(x[:,-4:-3],2000,1),0),\n",
    "                    np.expand_dims(np.repeat(x[:,-3:-2],2000,1),0),\n",
    "                    np.expand_dims(np.repeat(x[:,-2:-1],2000,1),0),\n",
    "                    np.expand_dims(np.repeat(x[:,-1:],2000,1),0)])\n",
    "    X = np.swapaxes(X,0,1)\n",
    "    X = np.swapaxes(X,1,2)\n",
    "    XSBT = X[:,:,:4].copy()\n",
    "   \n",
    "    X_UBT_sigvertex = X[:,0,-4:].copy()[0]   \n",
    "    Xcon = XSBT[0][ XSBT[0][:,0]>0 ]\n",
    "    print(X_UBT_sigvertex.shape)\n",
    "    print(Xcon.shape)\n",
    "\n",
    "    Xcon = np.hstack([Xcon , np.expand_dims(np.arctan(Xcon[:,2] / Xcon[:,1]),1)])\n",
    "    if Xcon.shape[0] < 2:\n",
    "        print(\"dimension not large enough \")\n",
    "        # in this case will need to use nn\n",
    "        return False\n",
    "\n",
    "    Xcon2 = torch.tensor(Xcon, dtype=torch.float)\n",
    "    if Xcon.shape[0] < 22:\n",
    "        A = adjacency2(Xcon.shape[0]-1)\n",
    "        edge_index =torch.tensor(A, dtype=torch.float).nonzero().t().contiguous() \n",
    "    else:\n",
    "        k = 20\n",
    "        assign_index = knn(Xcon2, Xcon2, k)\n",
    "        assign_index = assign_index+1\n",
    "        assign_index = assign_index[:,assign_index[0]!=assign_index[1]]\n",
    "        edge_index = assign_index\n",
    "\n",
    "    if edge_index.shape[1] == 0:\n",
    "        print(edge_index.shape)\n",
    "\n",
    "    if Xcon.shape[0] == 1:\n",
    "        r = torch.tensor(np.sqrt(np.sum((Xcon[edge_index[0],1:4] - Xcon[edge_index[1],1:4])**2,0)), dtype=torch.float)\n",
    "    else:\n",
    "        r = torch.tensor(np.sqrt(np.sum((Xcon[edge_index[0],1:4] - Xcon[edge_index[1],1:4])**2,1)), dtype=torch.float)\n",
    "    delta_z =torch.tensor(torch.tensor( Xcon[edge_index[0],3] - Xcon[edge_index[1],3]), dtype=torch.float)\n",
    "    delta_phi =torch.tensor( np.arctan(Xcon[edge_index[0],2] / Xcon[edge_index[0],1]) - np.arctan(Xcon[edge_index[1],2] / Xcon[edge_index[1],1]), dtype=torch.float)\n",
    "    edge_features = torch.vstack([r, delta_z, delta_phi])\n",
    "    edge_features = edge_features.T\n",
    "    global_features = np.hstack([X_UBT_sigvertex , np.array([Xcon.shape[0]]) ])\n",
    "    global_features = torch.tensor(global_features, dtype=torch.float).unsqueeze(0)\n",
    "    edgepos =  torch.tensor([j]*edge_index[0].shape[0],dtype=torch.int64)\n",
    "    Xcon = torch.tensor(Xcon, dtype=torch.float)\n",
    "    graph = Data(nodes=Xcon, edge_index=edge_index,y = y, edges = edge_features, graph_globals = global_features, edgepos=edgepos)\n",
    "    graph\n",
    "    graph['receivers'] = graph.edge_index[1]\n",
    "    graph['senders'] = graph.edge_index[0]\n",
    "    graph['edgepos'] = graph['edgepos'] - torch.min(graph['edgepos'])\n",
    "    graph.batch = torch.zeros(graph.nodes.shape[0],dtype= torch.int64)\n",
    "    graph.to(device)\n",
    "    output_graph = model(graph)\n",
    "    return(output_graph)"
   ]
  },
  {
   "cell_type": "code",
   "execution_count": null,
   "id": "d1ea15d6-cfda-4b81-ae50-635e2c01971d",
   "metadata": {},
   "outputs": [],
   "source": []
  }
 ],
 "metadata": {
  "kernelspec": {
   "display_name": "Python 3 (ipykernel)",
   "language": "python",
   "name": "python3"
  },
  "language_info": {
   "codemirror_mode": {
    "name": "ipython",
    "version": 3
   },
   "file_extension": ".py",
   "mimetype": "text/x-python",
   "name": "python",
   "nbconvert_exporter": "python",
   "pygments_lexer": "ipython3",
   "version": "3.12.5"
  }
 },
 "nbformat": 4,
 "nbformat_minor": 5
}
